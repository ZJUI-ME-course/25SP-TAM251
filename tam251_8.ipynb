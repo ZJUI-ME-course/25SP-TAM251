{
 "cells": [
  {
   "cell_type": "code",
   "execution_count": null,
   "id": "efa10fb5",
   "metadata": {},
   "outputs": [],
   "source": [
    "# 8.1\n"
   ]
  },
  {
   "cell_type": "code",
   "execution_count": null,
   "id": "8e10d7c3",
   "metadata": {},
   "outputs": [],
   "source": [
    "# 8.2\n"
   ]
  },
  {
   "cell_type": "code",
   "execution_count": null,
   "id": "445943ab",
   "metadata": {},
   "outputs": [],
   "source": [
    "# 8.3\n",
    "using JuMP, Clp\n",
    "\n",
    "m = Model(solver = ClpSolver())\n",
    "\n",
    "@variable(m, 0 <= f <= 1000)           # football trophies\n",
    "@variable(m, 0 <= s <= 1500)           # soccer trophies\n",
    "@constraint(m, 4f + 2s <= 4800)        # total board feet of wood\n",
    "\n",
    "@constraint(m, f + s <= 1750)          # total number of plaques\n",
    "@objective(m, Max, 12f + 9s)           # maximize profit\n",
    "\n",
    "status = solve(m)\n",
    "\n",
    "println(status)\n",
    "println(\"Build \", getvalue(f), \" football trophies.\")\n",
    "println(\"Build \", getvalue(s), \" soccer trophies.\")\n",
    "println(\"Total profit will be \\$\", getobjectivevalue(m))"
   ]
  }
 ],
 "metadata": {
  "kernelspec": {
   "display_name": "Julia 1.11.5",
   "language": "julia",
   "name": "julia-1.11"
  },
  "language_info": {
   "file_extension": ".jl",
   "mimetype": "application/julia",
   "name": "julia",
   "version": "1.11.5"
  }
 },
 "nbformat": 4,
 "nbformat_minor": 5
}
