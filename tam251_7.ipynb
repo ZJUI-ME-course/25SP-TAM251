{
 "cells": [
  {
   "cell_type": "code",
   "execution_count": null,
   "id": "0df7ddd0",
   "metadata": {},
   "outputs": [
    {
     "name": "stdout",
     "output_type": "stream",
     "text": [
      "8.527638837132406\n"
     ]
    }
   ],
   "source": [
    "# 1\n",
    "# 注意这个题很容易把竖直的第一个长度以为成t，但是实际上是b\n",
    "# 简单的算3个tao即可\n",
    "\n",
    "from sympy import *\n",
    "\n",
    "b = 23 # mm\n",
    "t = 6 # mm\n",
    "Vy = 37 # kN\n",
    "#################################\n",
    "\n",
    "mm=1e-3;b*=mm;t*=mm;Vy/=mm\n",
    "\n",
    "I1=1/12*2*b*(t)**3+(t/2+2*b+2*t)**2*2*b*t\n",
    "I2=1/12*b*(2*b)**3+(2*t+b)**2*(2*b*b)\n",
    "I3=1/12*(4*b+2*t)*(4*t)**3\n",
    "I=I1*4+I2*4+I3\n",
    "\n",
    "Q1=(1/2*t+2*b+2*t)*(2*b*t)\n",
    "Q2=Q1+(2*t+b)*(2*b*b)\n",
    "Q3=Q2+t*(2*t*(t+2*b))\n",
    "t1=2*b\n",
    "t2=b\n",
    "t3=2*b+t\n",
    "\n",
    "\n",
    "tao1=Q1*Vy/I/t1\n",
    "tao2=Q2*Vy/I/t2\n",
    "tao3=Q3*Vy/I/t3\n",
    "\n",
    "print(max(tao1,tao2,tao3)/1e6)\n",
    "\n"
   ]
  },
  {
   "cell_type": "code",
   "execution_count": 19,
   "id": "44363e47",
   "metadata": {},
   "outputs": [
    {
     "name": "stdout",
     "output_type": "stream",
     "text": [
      "29.232694994763705\n",
      "23.552916296557786\n"
     ]
    }
   ],
   "source": [
    "# 2\n",
    "\n",
    "from sympy import *\n",
    "\n",
    "t1 = 6 # mm\n",
    "t2 = 10 # mm\n",
    "b = 81 # mm\n",
    "h = 75 # mm\n",
    "ybar = 57.63158 # mm\n",
    "Iz = 1198657.89474 # mm^4\n",
    "Vy = 17 # kN\n",
    "Mz = 608 # N.m\n",
    "\n",
    "mm=1e-3;t1*=mm;t2*=mm;b*=mm;h*=mm;ybar*=mm;Iz*=mm**4;Vy*=1e3\n",
    "\n",
    "\n",
    "# 如果是tensile 选下面\n",
    "c=ybar\n",
    "sigma=Mz*c/Iz\n",
    "# 如果是compressive 选下面\n",
    "# c=h+t2-ybar\n",
    "# sigma=Mz*c/Iz\n",
    "print(sigma/1e6)\n",
    "\n",
    "y1=t2/2+h-ybar\n",
    "A1=t2*b\n",
    "y2=1/2*(h-ybar)\n",
    "A2=2*(h-ybar)*t1\n",
    "\n",
    "Q=y1*A1+y2*A2\n",
    "print(Q*Vy/Iz/(2*t1)/1e6)\n",
    "\n",
    "\n"
   ]
  },
  {
   "cell_type": "code",
   "execution_count": null,
   "id": "1c47de19",
   "metadata": {},
   "outputs": [],
   "source": [
    "# 3\n"
   ]
  },
  {
   "cell_type": "code",
   "execution_count": null,
   "id": "41da84f8",
   "metadata": {},
   "outputs": [],
   "source": [
    "# 4\n"
   ]
  },
  {
   "cell_type": "code",
   "execution_count": null,
   "id": "be0abcf6",
   "metadata": {},
   "outputs": [],
   "source": []
  },
  {
   "cell_type": "code",
   "execution_count": null,
   "id": "9442fee9",
   "metadata": {},
   "outputs": [],
   "source": [
    "# 6\n",
    "# F/L=\n",
    "\n",
    "from sympy import *\n",
    "\n",
    "h = 161 # mm\n",
    "t = 34 # mm\n",
    "d = 11 # mm\n",
    "taub = 4 # MPa\n",
    "V = 3 # kN\n",
    "#########\n",
    "mm=1e-3;h*=mm;t*=mm;d*=mm;taub*=1e6;V*=1e3\n",
    "\n",
    "\n",
    "y1=h \n",
    "\n"
   ]
  }
 ],
 "metadata": {
  "kernelspec": {
   "display_name": "Python 3",
   "language": "python",
   "name": "python3"
  },
  "language_info": {
   "codemirror_mode": {
    "name": "ipython",
    "version": 3
   },
   "file_extension": ".py",
   "mimetype": "text/x-python",
   "name": "python",
   "nbconvert_exporter": "python",
   "pygments_lexer": "ipython3",
   "version": "3.9.6"
  }
 },
 "nbformat": 4,
 "nbformat_minor": 5
}
