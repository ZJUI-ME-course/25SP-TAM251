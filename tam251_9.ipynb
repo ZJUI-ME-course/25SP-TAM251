{
 "cells": [
  {
   "cell_type": "code",
   "execution_count": null,
   "id": "0bc5a172",
   "metadata": {},
   "outputs": [],
   "source": [
    "# 9.1\n"
   ]
  },
  {
   "cell_type": "code",
   "execution_count": null,
   "id": "3f1a7b81",
   "metadata": {},
   "outputs": [
    {
     "name": "stdout",
     "output_type": "stream",
     "text": [
      "向量 b 到平面 A 的投影为: [3. 4. 0.]\n",
      "平面 A 的第一个基向量: [1 0 0]\n"
     ]
    }
   ],
   "source": []
  },
  {
   "cell_type": "code",
   "execution_count": null,
   "id": "f2b7effb",
   "metadata": {},
   "outputs": [],
   "source": []
  }
 ],
 "metadata": {
  "kernelspec": {
   "display_name": "Python 3",
   "language": "python",
   "name": "python3"
  },
  "language_info": {
   "codemirror_mode": {
    "name": "ipython",
    "version": 3
   },
   "file_extension": ".py",
   "mimetype": "text/x-python",
   "name": "python",
   "nbconvert_exporter": "python",
   "pygments_lexer": "ipython3",
   "version": "3.9.6"
  }
 },
 "nbformat": 4,
 "nbformat_minor": 5
}
