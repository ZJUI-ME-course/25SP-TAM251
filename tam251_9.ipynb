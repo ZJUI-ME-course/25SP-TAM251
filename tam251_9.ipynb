{
 "cells": [
  {
   "cell_type": "code",
   "execution_count": null,
   "id": "0bc5a172",
   "metadata": {},
   "outputs": [],
   "source": [
    "# 9.1\n"
   ]
  },
  {
   "cell_type": "code",
   "execution_count": null,
   "id": "3f1a7b81",
   "metadata": {},
   "outputs": [],
   "source": [
    "# 9.2\n"
   ]
  }
 ],
 "metadata": {
  "language_info": {
   "name": "python"
  }
 },
 "nbformat": 4,
 "nbformat_minor": 5
}
