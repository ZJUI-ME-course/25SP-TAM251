{
 "cells": [
  {
   "cell_type": "code",
   "execution_count": 6,
   "metadata": {},
   "outputs": [
    {
     "name": "stdout",
     "output_type": "stream",
     "text": [
      "-3.7939231693331106\n"
     ]
    }
   ],
   "source": [
    "# 1 \n",
    "from math import *\n",
    "\n",
    "a=547\n",
    "b=425\n",
    "dertab=1\n",
    "dertad=3\n",
    "\n",
    "a2=a-dertab\n",
    "b2=b-dertad\n",
    "\n",
    "e=-(sqrt(a**2+b**2)-sqrt(a2**2+b2**2))/sqrt(a**2+b**2)*1e3\n",
    "# 缩小是减号\n",
    "print(e)\n"
   ]
  },
  {
   "cell_type": "code",
   "execution_count": 25,
   "metadata": {},
   "outputs": [
    {
     "name": "stdout",
     "output_type": "stream",
     "text": [
      "0.5493061443340549\n"
     ]
    }
   ],
   "source": [
    "# 2\n",
    "from math import *\n",
    "\n",
    "\n",
    "time=3\n",
    "\n",
    "e_gong=time-1\n",
    "e_zhen=log(time)\n",
    "\n",
    "\n",
    "print(e_zhen/e_gong)\n"
   ]
  },
  {
   "cell_type": "code",
   "execution_count": null,
   "metadata": {},
   "outputs": [
    {
     "name": "stdout",
     "output_type": "stream",
     "text": [
      "0.03383333333333333\n",
      "0.00511500201007604 -0.00511500201007604\n"
     ]
    }
   ],
   "source": [
    "# 3\n",
    "a=5.8\n",
    "print(a/300+a/400)\n",
    "\n",
    "# 不需要除1/2*pi\n",
    "# 变小是正号\n",
    "\n"
   ]
  },
  {
   "cell_type": "code",
   "execution_count": 17,
   "metadata": {},
   "outputs": [
    {
     "name": "stdout",
     "output_type": "stream",
     "text": [
      "-0.011440766354840263 \n",
      " 0.011440766354840263\n"
     ]
    }
   ],
   "source": [
    "# 4\n",
    "x=403\n",
    "y=305\n",
    "\n",
    "\n",
    "ssd=2/(x+3)+2/(y+2)\n",
    "ssc=-ssd\n",
    "print(ssc,'\\n',ssd)\n",
    "\n",
    "# 错误原因 看反了，应该是先c后d\n"
   ]
  },
  {
   "cell_type": "code",
   "execution_count": 29,
   "metadata": {},
   "outputs": [
    {
     "name": "stdout",
     "output_type": "stream",
     "text": [
      "0.00300001600007338\n"
     ]
    }
   ],
   "source": [
    "# 2.5\n",
    "\n",
    "\n",
    "gammaxy=0.005\n",
    "# print(600*sin(gammaxy))\n",
    "\n",
    "from numpy import *\n",
    "\n",
    "# f1=array([0,600,0])\n",
    "f2=array([600*sin(gammaxy),600*cos(gammaxy),0])\n",
    "# print(f2)\n",
    "# c1=array([900,300,0])\n",
    "c2=array([900+sin(gammaxy)*300,cos(gammaxy)*300,0])\n",
    "\n",
    "g=array([300,0,0])\n",
    "\n",
    "\n",
    "GF2=f2-g\n",
    "GC2=c2-g\n",
    "# print(GF2,GC2)\n",
    "gammag=acos(dot(GF2,GC2)/(linalg.norm(GF2)*linalg.norm(GC2)))\n",
    "print(1/2*pi-gammag)\n",
    "\n",
    "\n",
    "\n"
   ]
  },
  {
   "cell_type": "code",
   "execution_count": null,
   "metadata": {},
   "outputs": [],
   "source": [
    "# 2.6\n",
    "\n",
    "\n"
   ]
  }
 ],
 "metadata": {
  "kernelspec": {
   "display_name": "Python 3",
   "language": "python",
   "name": "python3"
  },
  "language_info": {
   "codemirror_mode": {
    "name": "ipython",
    "version": 3
   },
   "file_extension": ".py",
   "mimetype": "text/x-python",
   "name": "python",
   "nbconvert_exporter": "python",
   "pygments_lexer": "ipython3",
   "version": "3.12.6"
  }
 },
 "nbformat": 4,
 "nbformat_minor": 2
}
