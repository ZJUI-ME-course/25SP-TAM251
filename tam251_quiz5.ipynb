{
 "cells": [
  {
   "cell_type": "code",
   "execution_count": 35,
   "id": "322b673b",
   "metadata": {},
   "outputs": [
    {
     "name": "stdout",
     "output_type": "stream",
     "text": [
      "9.282871546946694\n",
      "13.55\n",
      "-1.979898589694759\n"
     ]
    }
   ],
   "source": [
    "# 1\n",
    "from sympy import *\n",
    "\n",
    "p = 1355 # kPa\n",
    "T = 9 # kN.m\n",
    "V = 5 # kN\n",
    "L = 1140 # mm\n",
    "t = 19 # mm\n",
    "r = 190 # mm\n",
    "#####################\n",
    "p=p*1e3;T=T*1e3;V=V*1e3;L=L*1e-3;t=t*1e-3;r=r*1e-3\n",
    "\n",
    "\n",
    "A=pi*((r+t)**2-r**2)\n",
    "I=pi/4*((r+t)**4-r**4)\n",
    "J=pi/2*((r+t)**4-r**4)\n",
    "\n",
    "ri=r \n",
    "ro=ri+t\n",
    "\n",
    "A=pi*(ro**2-ri**2)\n",
    "I=pi/4*(ro**4-ri**4)\n",
    "J=pi/2*(ro**4-ri**4)\n",
    "taoxy=-T*ro/J\n",
    "\n",
    "\n",
    "M=V*L\n",
    "sigmax1=M*ro/I\n",
    "sigmax2=p*r/2/t \n",
    "\n",
    "\n",
    "sigmay1=p*r/t\n",
    "\n",
    "print(float(sigmax1+sigmax2)/1e6)\n",
    "print(float(sigmay1)/1e6)\n",
    "print(float(taoxy)/1e6)\n"
   ]
  },
  {
   "cell_type": "code",
   "execution_count": 45,
   "id": "8d3f3a94",
   "metadata": {},
   "outputs": [
    {
     "name": "stdout",
     "output_type": "stream",
     "text": [
      "5.294117647058823\n"
     ]
    },
    {
     "data": {
      "text/latex": [
       "$\\displaystyle 66.6666666666662$"
      ],
      "text/plain": [
       "66.6666666666662"
      ]
     },
     "execution_count": 45,
     "metadata": {},
     "output_type": "execute_result"
    }
   ],
   "source": [
    "# 8.5\n",
    "\n",
    "from sympy import *\n",
    "\n",
    "a = 310.00 # mm\n",
    "b = 200.00 # mm\n",
    "t = 68.00 # mm\n",
    "P = 72.00 # kN\n",
    "\n",
    "P=P*1e3;b*=1e-3;t*=1e-3\n",
    "##############\n",
    "\n",
    "\n",
    "A=t*b\n",
    "I=1/12*t*b**3\n",
    "\n",
    "d=S('d')\n",
    "M=P*(1/2*b-d)\n",
    "\n",
    "\n",
    "\n",
    "sigma1=M*1/2*b/I\n",
    "sigma2=P/A\n",
    "print(sigma2/1e6)\n",
    "\n",
    "solve(sigma1-sigma2)[0]*1e3"
   ]
  },
  {
   "cell_type": "code",
   "execution_count": null,
   "id": "802bba30",
   "metadata": {},
   "outputs": [
    {
     "name": "stdout",
     "output_type": "stream",
     "text": [
      "sigmax: 9.66413334614370\n",
      "sigmay: 8.199750000000007\n",
      "taoxy -4.02627721830724\n"
     ]
    }
   ],
   "source": [
    "# 8.3\n",
    "\n",
    "\n",
    "# 不是很理解为什么这里tao是负的\n",
    "\n",
    "from sympy import *\n",
    "\n",
    "a = 330 # mm\n",
    "b = 220 # mm\n",
    "c = 255 # mm\n",
    "do = 95 # mm\n",
    "di = 87 # mm\n",
    "p = 754 # kPa\n",
    "Py = 305 # N\n",
    "Pz = 421 # N\n",
    "############################\n",
    "\n",
    "a*=1e-3;b*=1e-3;\n",
    "c*=1e-3;do*=1e-3;di*=1e-3;p*=1e3\n",
    "\n",
    "ro=do/2\n",
    "ri=di/2\n",
    "\n",
    "\n",
    "A=pi*(ro**2-ri**2)\n",
    "I=1/4*pi*(ro**4-ri**4)\n",
    "J=pi/2*(ro**4-ri**4)\n",
    "\n",
    "t=ro-ri\n",
    "\n",
    "sigmax1=p*ri/2/t\n",
    "sigmax2=Pz*a*ro/I\n",
    "sigmax=sigmax1+sigmax2\n",
    "print('sigmax:',sigmax.evalf()/1e6)\n",
    "\n",
    "\n",
    "sigmay=p*ri/t\n",
    "print('sigmay:',sigmay/1e6)\n",
    "\n",
    "\n",
    "Q=4/3*ro/pi*1/2*pi*ro**2-4/3*ri/pi*1/2*pi*ri**2\n",
    "V=Py\n",
    "t=2*(ro-ri)\n",
    "tao1=-V*Q/I/t\n",
    "\n",
    "# 沿杆子顺时针为逆\n",
    "tao2=-(Pz*c+Py*b)*ro/J\n",
    "\n",
    "tao=tao2.evalf()+tao1.evalf()\n",
    "print('taoxy',-tao/1e6)\n"
   ]
  },
  {
   "cell_type": "code",
   "execution_count": 83,
   "id": "a4158d17",
   "metadata": {},
   "outputs": [
    {
     "name": "stdout",
     "output_type": "stream",
     "text": [
      "778.819500000000\n",
      "4.47158302422419\n"
     ]
    }
   ],
   "source": [
    "# 7.9\n",
    "\n",
    "\n",
    "from sympy import *\n",
    "\n",
    "D = 219 # mm\n",
    "d = 105 # mm\n",
    "V = 70 # kN\n",
    "\n",
    "V=V*1e3;D=D*1e-3;d=d*1e-3\n",
    "\n",
    "###############\n",
    "ro=D/2\n",
    "ri=d/2\n",
    "\n",
    "\n",
    "\n",
    "I=pi/4*(ro**4-ri**4)\n",
    "Q=4/3/pi*ro*(1/2*pi*ro**2)-4/3/pi*ri*(1/2*pi*ri**2)\n",
    "t=2*(ro-ri)\n",
    "\n",
    "print(Q/1e3/1e-9)\n",
    "tao=V*Q/I/t\n",
    "\n",
    "print(tao.evalf()/1e6)\n",
    "\n"
   ]
  },
  {
   "cell_type": "code",
   "execution_count": null,
   "id": "29eee25f",
   "metadata": {},
   "outputs": [],
   "source": [
    "\n",
    "from sympy import *\n",
    "\n",
    "t1 = 5 # mm\n",
    "t2 = 9 # mm\n",
    "b = 94 # mm\n",
    "h = 81 # mm\n",
    "ybar = 63.48913 # mm\n",
    "Iz = 1286531.80435 # mm^4\n",
    "Vy = 38 # kN\n",
    "Mz = 748 # N.m\n",
    "\n",
    "######################\n",
    "\n",
    "\n"
   ]
  },
  {
   "cell_type": "code",
   "execution_count": 94,
   "id": "b082610f",
   "metadata": {},
   "outputs": [
    {
     "name": "stdout",
     "output_type": "stream",
     "text": [
      "8.455041466666671e-05\n",
      "0.21297944038468813\n",
      "0.6389383211540645\n"
     ]
    }
   ],
   "source": [
    "# 7.5\n",
    "from sympy import *\n",
    "\n",
    "b = 49 # mm\n",
    "V = 5 # kN\n",
    "\n",
    "b=b*1e-3\n",
    "V=V*1e3\n",
    "##############\n",
    "\n",
    "w1=3*b\n",
    "a1=b\n",
    "d1=3/2*b\n",
    "s1=3*b*b\n",
    "I1=1/12*w1*a1**3+d1**2*s1\n",
    "\n",
    "w1=b\n",
    "a1=2*b\n",
    "I2=1/12*w1*a1**3\n",
    "\n",
    "I=I1*2+I2\n",
    "print(I)\n",
    "\n",
    "\n",
    "\n",
    "\n",
    "y1=3/2*b\n",
    "A1=b**2\n",
    "Q=y1*A1\n",
    "t=b\n",
    "\n",
    "tao=V*Q/I/t\n",
    "print(tao/1e6)\n",
    "\n",
    "\n",
    "y1=3/2*b\n",
    "A1=b**2*3\n",
    "\n",
    "Q=y1*A1\n",
    "t=b\n",
    "tao=V*Q/I/t \n",
    "print(tao/1e6)\n"
   ]
  },
  {
   "cell_type": "code",
   "execution_count": 118,
   "id": "4355034a",
   "metadata": {},
   "outputs": [
    {
     "name": "stdout",
     "output_type": "stream",
     "text": [
      "0.108\n",
      "6.554439e-05\n",
      "177.462918943071\n"
     ]
    }
   ],
   "source": [
    "# 7.6\n",
    "from sympy import *\n",
    "\n",
    "h = 162 # mm\n",
    "t = 37 # mm\n",
    "d = 15 # mm\n",
    "taub = 3 # MPa\n",
    "V = 4 # kN\n",
    "mm=1e-3;h*=mm;t*=mm;d*=mm;taub*=1e6;V*=1e3\n",
    "\n",
    "# yabr,I\n",
    "# 选位置Q y1*A1\n",
    " \n",
    "y1=1/2*h\n",
    "s1=2*h*t\n",
    "y2=h\n",
    "s2=h*t\n",
    "ybar=(y1*s1+y2*s2)/(s1+s2)\n",
    "print(ybar)\n",
    "\n",
    "\n",
    "I1=1/12*(t)*h**3+(ybar-1/2*h)**2*h*t\n",
    "I2=1/12*t*h**3+(h-ybar)**2*h*t\n",
    "I=I1*2+I2\n",
    "\n",
    "\n",
    "print(I)\n",
    "\n",
    "\n",
    "y1=ybar-1/2*h\n",
    "A1=b*t\n",
    "Q1=abs(A1*y1)\n",
    "\n",
    "t=t \n",
    "q=Q1*V/I\n",
    "# print(q)\n",
    "\n",
    "A=1/4*pi*d**2\n",
    "\n",
    "F=A*taub\n",
    "\n",
    "dertaS=F/q\n",
    "\n",
    "\n",
    "print(dertaS.evalf()*1e3)\n",
    "\n",
    "\n",
    "\n",
    "\n",
    "\n"
   ]
  }
 ],
 "metadata": {
  "kernelspec": {
   "display_name": "Python 3",
   "language": "python",
   "name": "python3"
  },
  "language_info": {
   "codemirror_mode": {
    "name": "ipython",
    "version": 3
   },
   "file_extension": ".py",
   "mimetype": "text/x-python",
   "name": "python",
   "nbconvert_exporter": "python",
   "pygments_lexer": "ipython3",
   "version": "3.9.6"
  }
 },
 "nbformat": 4,
 "nbformat_minor": 5
}
