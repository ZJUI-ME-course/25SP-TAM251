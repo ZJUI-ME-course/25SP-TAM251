{
 "cells": [
  {
   "cell_type": "code",
   "execution_count": 11,
   "metadata": {},
   "outputs": [
    {
     "name": "stdout",
     "output_type": "stream",
     "text": [
      "31.830988618379067 -1.9488360378599432 25.464790894703256\n"
     ]
    }
   ],
   "source": [
    "# hw1-1\n",
    "from math import pi\n",
    "a=0.4 # in\n",
    "b=1.4 # in\n",
    "c=0.5 # in\n",
    "f1=4 #kips\n",
    "f2=7 #kips\n",
    "f3=8 # kips\n",
    "f4=5 # kips\n",
    "\n",
    "\n",
    "Aa=pi*a**2/4\n",
    "Ab=pi*b**2/4\n",
    "Ac=pi*c**2/4\n",
    "\n",
    "\n",
    "siga=(f1)/Aa\n",
    "sigb=(f1-f2)/Ab\n",
    "sigc=(f4)/Ac\n",
    "\n",
    "print(siga,sigb,sigc)\n",
    "\n",
    "# -35.65070725258456 0.0 35.65070725258456\n",
    "# 31.830988618379067 -1.9488360378599432 25.464790894703256\n",
    "\n",
    "\n",
    "\n",
    "\n",
    "# 拉伸是正\n",
    "# 挤压是负\n",
    "\n"
   ]
  },
  {
   "cell_type": "code",
   "execution_count": 19,
   "metadata": {},
   "outputs": [
    {
     "name": "stdout",
     "output_type": "stream",
     "text": [
      "480.000000000000 2.40000000000000\n"
     ]
    }
   ],
   "source": [
    "# hw1-2\n",
    "\n",
    "from sympy import integrate as i\n",
    "from sympy import solve as o\n",
    "from sympy import S,sqrt,cos,sin,tan\n",
    "\n",
    "x=S('x')\n",
    "tao=6\n",
    "f=i(tao*15*x**(1/2),(x,0.000000,4))\n",
    "m=i(tao*15*x**(1/2)*x,(x,0.000000,4))\n",
    "print(f,m/f)\n",
    "\n",
    "# 单位注意一下\n",
    "\n"
   ]
  },
  {
   "cell_type": "code",
   "execution_count": null,
   "metadata": {},
   "outputs": [
    {
     "name": "stdout",
     "output_type": "stream",
     "text": [
      "51.851851851851855 110.03304707587827\n"
     ]
    }
   ],
   "source": [
    "# hw1-4\n",
    "\n",
    "from math import pi\n",
    "\n",
    "\n",
    "# =====\n",
    "f=28 #KN\n",
    "d=18 #mm\n",
    "t=30 # mm\n",
    "# =====\n",
    "\n",
    "f=f*10**3  #N\n",
    "\n",
    "# 先算sheer stress\n",
    "A1=(d/2)**2*pi\n",
    "tao=f/A1\n",
    "\n",
    "\n",
    "\n",
    "\n",
    "\n",
    "\n",
    "\n",
    "# 虽然把答案凑出来了，但是不知道为什么正确？？？？？？？？？？\n",
    "A2=d*t\n",
    "sigma=f/A2\n",
    "\n",
    "\n",
    "\n",
    "\n",
    "\n",
    "\n",
    "print(sigma,tao)\n"
   ]
  },
  {
   "cell_type": "code",
   "execution_count": null,
   "metadata": {},
   "outputs": [
    {
     "name": "stdout",
     "output_type": "stream",
     "text": [
      "[1.50000000000000]\n",
      "[3.90000000000000]\n"
     ]
    }
   ],
   "source": [
    "# hw1-5\n",
    "\n",
    "sig_max=50\n",
    "fs=1.5\n",
    "w=0.5\n",
    "a=25\n",
    "b=20\n",
    "\n",
    "from sympy import S,solve\n",
    "sig_allow=sig_max/fs\n",
    "\n",
    "h1=S('h1')\n",
    "h2=S('h2')\n",
    "q1=a/(h1*w)-sig_allow\n",
    "q2=(a+2*b)/(h2*w)-sig_allow\n",
    "\n",
    "print(solve(q1,h1))\n",
    "print(solve(q2,h2))\n",
    "\n",
    "# 这个单位我是真的服了\n",
    "\n",
    "\n",
    "\n",
    "#\n"
   ]
  },
  {
   "cell_type": "code",
   "execution_count": 1,
   "metadata": {},
   "outputs": [
    {
     "data": {
      "text/plain": [
       "249809.59867703894"
      ]
     },
     "execution_count": 1,
     "metadata": {},
     "output_type": "execute_result"
    }
   ],
   "source": [
    "from math import *\n",
    "0.5*9.81*4/pi/(5*10**(-3))**2\n"
   ]
  },
  {
   "cell_type": "code",
   "execution_count": null,
   "metadata": {},
   "outputs": [],
   "source": []
  },
  {
   "cell_type": "code",
   "execution_count": null,
   "metadata": {},
   "outputs": [
    {
     "name": "stdout",
     "output_type": "stream",
     "text": [
      "375.0\n",
      "166.66666666666666\n"
     ]
    }
   ],
   "source": [
    "# hw1-6\n",
    "a=8\n",
    "b=12\n",
    "c=4\n",
    "l=9\n",
    "f=18*10**3 #kN\n",
    "\n",
    "from numpy import atan,cos,sqrt\n",
    "tt=atan(l/a)\n",
    "\n",
    "\n",
    "# s=f*cos(tt)/sqrt(a**2+l**2)/2/b\n",
    "# # print(s)\n",
    "\n",
    "\n",
    "A1=(c)*b\n",
    "sigma=f/A1\n",
    "print(sigma)\n",
    "\n",
    "\n",
    "A2=(l)*b\n",
    "tao=f/A2\n",
    "print(tao)\n",
    "\n",
    "#完全不理解为什么\n",
    "\n",
    "\n",
    "\n"
   ]
  },
  {
   "cell_type": "code",
   "execution_count": null,
   "metadata": {},
   "outputs": [
    {
     "name": "stdout",
     "output_type": "stream",
     "text": [
      "11.8628190577554\n"
     ]
    }
   ],
   "source": [
    "# hw1-7\n",
    "\n",
    "tfail=380e6 #pa\n",
    "fs=2.1+\n",
    "ff=tfail/fs\n",
    "\n",
    "f1=20e3 #N螺栓处受到的力\n",
    "from sympy import pi,S,solve\n",
    "\n",
    "d=S('d')\n",
    "q1=f1/(pi/4*d**2)-ff\n",
    "print(solve(q1,d)[1]*1000) # mm\n"
   ]
  },
  {
   "cell_type": "code",
   "execution_count": null,
   "metadata": {},
   "outputs": [
    {
     "name": "stdout",
     "output_type": "stream",
     "text": [
      "12.1419824064610\n"
     ]
    }
   ],
   "source": [
    "\n"
   ]
  },
  {
   "cell_type": "code",
   "execution_count": 5,
   "metadata": {},
   "outputs": [
    {
     "name": "stdout",
     "output_type": "stream",
     "text": [
      "36.04911878056202 103.14514285714287\n",
      "-36.04911878056202 -103.14514285714287 -3.610080000000001\n"
     ]
    }
   ],
   "source": [
    "# hw1-8\n",
    "\n",
    "from numpy import *\n",
    "g=9.81\n",
    "m=3.2\n",
    "\n",
    "\n",
    "f=300*m*g/70/sin(radians(75))\n",
    "\n",
    "cx=f*cos(radians(75))\n",
    "cy=f*sin(radians(75))-m*g\n",
    "print(cx,cy)\n",
    "\n",
    "\n",
    "ve=-cy\n",
    "ne=-cx\n",
    "me=-cy*0.035\n",
    "print(ne,ve,me)\n",
    "\n",
    "\n",
    "# 判断正负 从左看 y轴是上面为正 x轴压缩为负  m是需要这个点的总m为0，逆时针为正\n",
    "\n"
   ]
  },
  {
   "cell_type": "code",
   "execution_count": null,
   "metadata": {},
   "outputs": [
    {
     "name": "stdout",
     "output_type": "stream",
     "text": [
      "103.14514285714287 36.04911878056202\n",
      "-36.04911878056202 -103.14514285714287 -7.220160000000002\n"
     ]
    }
   ],
   "source": [
    "m=3.2\n",
    "g=9.81\n",
    "from math import *\n",
    "\n",
    "F=m*g*300/sin(radians(75))/70\n",
    "\n",
    "yc=F*sin(radians(75))-m*g\n",
    "xc=F*cos(radians(75))\n",
    "\n",
    "print(yc,xc)\n",
    "\n",
    "\n",
    "ye=-yc\n",
    "xe=-xc\n",
    "\n",
    "me=-35/1e3*yc\n",
    "print(xe,ye,me)\n",
    "\n",
    "\n"
   ]
  },
  {
   "cell_type": "code",
   "execution_count": null,
   "metadata": {},
   "outputs": [
    {
     "name": "stdout",
     "output_type": "stream",
     "text": [
      "156.8\n"
     ]
    }
   ],
   "source": [
    "# hw1-9\n",
    "fs=5\n",
    "ff=784\n",
    "\n",
    "fa=ff/fs\n",
    "print(fa)\n",
    "\n",
    "\n"
   ]
  },
  {
   "cell_type": "code",
   "execution_count": 1,
   "metadata": {},
   "outputs": [
    {
     "ename": "NameError",
     "evalue": "name 'sqrt' is not defined",
     "output_type": "error",
     "traceback": [
      "\u001b[1;31m---------------------------------------------------------------------------\u001b[0m",
      "\u001b[1;31mNameError\u001b[0m                                 Traceback (most recent call last)",
      "Cell \u001b[1;32mIn[1], line 8\u001b[0m\n\u001b[0;32m      5\u001b[0m tt\u001b[38;5;241m=\u001b[39m\u001b[38;5;241m2\u001b[39m\n\u001b[0;32m      6\u001b[0m l\u001b[38;5;241m=\u001b[39m\u001b[38;5;241m700\u001b[39m\n\u001b[1;32m----> 8\u001b[0m r\u001b[38;5;241m=\u001b[39ml\u001b[38;5;241m/\u001b[39m\u001b[43msqrt\u001b[49m(\u001b[38;5;241m2\u001b[39m)\n\u001b[0;32m      9\u001b[0m l2\u001b[38;5;241m=\u001b[39m\u001b[38;5;241m2\u001b[39m\u001b[38;5;241m*\u001b[39mr\u001b[38;5;241m*\u001b[39mcos(radians((\u001b[38;5;241m90\u001b[39m\u001b[38;5;241m-\u001b[39mtt)\u001b[38;5;241m/\u001b[39m\u001b[38;5;241m2\u001b[39m))\n\u001b[0;32m     10\u001b[0m strain\u001b[38;5;241m=\u001b[39m(l2\u001b[38;5;241m-\u001b[39ml)\u001b[38;5;241m/\u001b[39ml\n",
      "\u001b[1;31mNameError\u001b[0m: name 'sqrt' is not defined"
     ]
    }
   ],
   "source": [
    "# \n",
    "from numpy import radians\n",
    "\n",
    "\n",
    "tt=2\n",
    "l=700\n",
    "\n",
    "r=l/sqrt(2)\n",
    "l2=2*r*cos(radians((90-tt)/2))\n",
    "strain=(l2-l)/l\n",
    "print(strain)\n"
   ]
  },
  {
   "cell_type": "code",
   "execution_count": null,
   "metadata": {},
   "outputs": [
    {
     "name": "stdout",
     "output_type": "stream",
     "text": [
      "0.017300101593674688\n"
     ]
    }
   ],
   "source": [
    "from numpy import *\n",
    "\n",
    "l1=700\n",
    "tt=2\n",
    "\n",
    "tt1=(90-tt)/2\n",
    "\n",
    "r=l1/sqrt(2)\n",
    "\n",
    "l2=2*r*cos(radians(tt1))\n",
    "\n",
    "\n",
    "strain=(l2-l1)/l1\n",
    "print(strain)\n",
    "\n",
    "\n",
    "\n"
   ]
  },
  {
   "cell_type": "code",
   "execution_count": null,
   "metadata": {},
   "outputs": [],
   "source": [
    "\n"
   ]
  }
 ],
 "metadata": {
  "kernelspec": {
   "display_name": "Python 3",
   "language": "python",
   "name": "python3"
  },
  "language_info": {
   "codemirror_mode": {
    "name": "ipython",
    "version": 3
   },
   "file_extension": ".py",
   "mimetype": "text/x-python",
   "name": "python",
   "nbconvert_exporter": "python",
   "pygments_lexer": "ipython3",
   "version": "3.12.6"
  }
 },
 "nbformat": 4,
 "nbformat_minor": 2
}
