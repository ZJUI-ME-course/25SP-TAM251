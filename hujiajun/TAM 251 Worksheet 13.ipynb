{
 "cells": [
  {
   "cell_type": "code",
   "execution_count": 120,
   "metadata": {},
   "outputs": [
    {
     "data": {
      "image/png": "[encoded data removed]",
      "text/latex": [
       "$\\displaystyle 0.00025 a^{3} - 0.00825 a^{2} + 1.5$"
      ],
      "text/plain": [
       "         3            2      \n",
       "0.00025⋅a  - 0.00825⋅a  + 1.5"
      ]
     },
     "execution_count": 120,
     "metadata": {},
     "output_type": "execute_result"
    }
   ],
   "source": [
    "from math import *\n",
    "import sympy as sy\n",
    "from sympy import *\n",
    "\n",
    "a,b,h,t,r,P,x,c1,c2,c3,c4,E_m,I_z,L=S('a,b,h,t,r,P,x,c1,c2,c3,c4,E_m,I_z,L')\n",
    "\n",
    "L=11\n",
    "#a=6\n",
    "h=3\n",
    "b=1\n",
    "t=0.2\n",
    "E_m=1e6\n",
    "I_z=integrate(b*r*r,[r,-0.5*t,0.5*t])\n",
    "P=1\n",
    "\n",
    "sy.init_printing()\n",
    "\n",
    "M1=P*(x-a)\n",
    "M2=0\n",
    "\n",
    "y1=integrate(integrate(M1/E_m/I_z,x)+c1,x)+c2\n",
    "y2=integrate(integrate(M2/E_m/I_z,x)+c3,x)+c4\n",
    "\n",
    "\n",
    "#边界条件\n",
    "equ1=diff(y1,x,0).subs(x,0)-0\n",
    "equ2=diff(y1,x,1).subs(x,0)-h/(2*L)\n",
    "equ3=diff(y1,x,0).subs(x,a)-diff(y2,x,0).subs(x,a)\n",
    "equ4=diff(y1,x,1).subs(x,a)-diff(y2,x,1).subs(x,a)\n",
    "\n",
    "ans=solve([equ1,equ2,equ3,equ4],[c1,c2,c3,c4])\n",
    "c11=ans[c1]\n",
    "c22=ans[c2]\n",
    "c33=ans[c3]\n",
    "c44=ans[c4]\n",
    "\n",
    "gap=y2.subs(c3,c33).subs(c4,c44).subs(x,L)*2\n",
    "\n",
    "#PP=solve([gap-1],[P])[P]\n",
    "\n",
    "y2=y2.subs(c3,c33).subs(c4,c44)\n",
    "ya=y2.subs(x,L)\n",
    "ya"
   ]
  },
  {
   "cell_type": "code",
   "execution_count": 127,
   "metadata": {},
   "outputs": [
    {
     "data": {
      "image/png": "[encoded data removed]",
      "text/plain": [
       "<Figure size 432x288 with 1 Axes>"
      ]
     },
     "metadata": {
      "needs_background": "light"
     },
     "output_type": "display_data"
    }
   ],
   "source": [
    "p=plotting.plot(1.5-ya,(a,0,L),show=False)\n",
    "p1=plotting.plot(0,(a,0,L),show=False)\n",
    "p.extend(p1)\n",
    "p.show()"
   ]
  },
  {
   "cell_type": "code",
   "execution_count": 70,
   "metadata": {},
   "outputs": [
    {
     "data": {
      "image/png": "[encoded data removed]",
      "text/latex": [
       "$\\displaystyle 1.5 - 0.243 P$"
      ],
      "text/plain": [
       "1.5 - 0.243⋅P"
      ]
     },
     "execution_count": 70,
     "metadata": {},
     "output_type": "execute_result"
    }
   ],
   "source": [
    "def yp(P,L,E,I):\n",
    "    x=S('x')\n",
    "    return P/(6*E*I)*(x**3-3*L*x**2)\n",
    "\n",
    "L=11\n",
    "a=6\n",
    "h=3\n",
    "b=1\n",
    "t=0.2\n",
    "E_m=1e6\n",
    "I_z=integrate(b*r*r,[r,-0.5*t,0.5*t])\n",
    "\n",
    "y3=h/2/L*x\n",
    "y41=yp(P,a,E_m,I_z)\n",
    "h=diff(y41,x,0).subs(x,a)\n",
    "k=diff(y41,x,1).subs(x,a)\n",
    "y42=h+k*(x-a)\n",
    "y4=y42\n",
    "\n",
    "(y4+y3).subs(x,L)"
   ]
  }
 ],
 "metadata": {
  "kernelspec": {
   "display_name": "Python 3",
   "language": "python",
   "name": "python3"
  },
  "language_info": {
   "codemirror_mode": {
    "name": "ipython",
    "version": 3
   },
   "file_extension": ".py",
   "mimetype": "text/x-python",
   "name": "python",
   "nbconvert_exporter": "python",
   "pygments_lexer": "ipython3",
   "version": "3.8.3"
  }
 },
 "nbformat": 4,
 "nbformat_minor": 4
}
