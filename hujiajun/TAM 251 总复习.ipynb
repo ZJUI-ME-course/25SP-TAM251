{
 "cells": [
  {
   "cell_type": "code",
   "execution_count": 1,
   "metadata": {},
   "outputs": [],
   "source": [
    "import sympy as sy\n",
    "import numpy as np\n",
    "from sympy import *\n",
    "mm=0.001\n",
    "GG=1e9\n",
    "kk=1000\n",
    "\n",
    "\n",
    "def MO(x):\n",
    "    return (x[0]**2+x[1]**2+x[2]**2)**0.5"
   ]
  },
  {
   "cell_type": "code",
   "execution_count": 9,
   "metadata": {},
   "outputs": [
    {
     "data": {
      "text/plain": [
       "(22.818535592914497, 36.106872968536145)"
      ]
     },
     "execution_count": 9,
     "metadata": {},
     "output_type": "execute_result"
    }
   ],
   "source": [
    "t1 = 6 # mm\n",
    "t2 = 6 # mm\n",
    "b = 71 # mm\n",
    "h = 80 # mm\n",
    "ybar = 53.21645 # mm\n",
    "I = 1058853.06494*mm**4 # mm^4\n",
    "Vy = 27*1000 # kN\n",
    "M = 737 # N.m\n",
    "\n",
    "t1=t1*mm\n",
    "t2=t2*mm\n",
    "b=b*mm\n",
    "h=h*mm\n",
    "ybar=ybar*mm\n",
    "\n",
    "#tau\n",
    "thick=2*t1\n",
    "V=Vy\n",
    "Q=(0.5*ybar)*(2*t1*ybar)\n",
    "Q1=(t2*(b))*(0.5*t2+h-ybar)\n",
    "Q2=(2*t1*(h-ybar))*(h-ybar)*0.5\n",
    "Q=Q1+Q2\n",
    "\n",
    "M*(h+t2-ybar)/I/1000000,V*Q/I/thick/1e6"
   ]
  }
 ],
 "metadata": {
  "kernelspec": {
   "display_name": "Python 3",
   "language": "python",
   "name": "python3"
  },
  "language_info": {
   "codemirror_mode": {
    "name": "ipython",
    "version": 3
   },
   "file_extension": ".py",
   "mimetype": "text/x-python",
   "name": "python",
   "nbconvert_exporter": "python",
   "pygments_lexer": "ipython3",
   "version": "3.8.3"
  }
 },
 "nbformat": 4,
 "nbformat_minor": 4
}
