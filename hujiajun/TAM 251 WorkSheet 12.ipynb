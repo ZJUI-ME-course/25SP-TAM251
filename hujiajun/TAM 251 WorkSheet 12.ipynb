{
 "cells": [
  {
   "cell_type": "code",
   "execution_count": 1,
   "metadata": {},
   "outputs": [],
   "source": [
    "from sympy import *\n",
    "mm=0.001"
   ]
  },
  {
   "cell_type": "code",
   "execution_count": 24,
   "metadata": {},
   "outputs": [
    {
     "name": "stdout",
     "output_type": "stream",
     "text": [
      "sigma_1= 17.865619497935278\n",
      "sigma_2= -104.12846128216037\n",
      "theta_p= 67.5\n",
      "tau_max= 60.99704039004783\n",
      "theta_s= 22.5\n",
      "center = -43.13142089211255\n"
     ]
    },
    {
     "data": {
      "image/png": "[encoded data removed]",
      "text/plain": [
       "<Figure size 432x288 with 1 Axes>"
      ]
     },
     "metadata": {
      "needs_background": "light"
     },
     "output_type": "display_data"
    }
   ],
   "source": [
    "T=40\n",
    "r=250*mm\n",
    "\n",
    "F_Mag=T/(r*sin(60*pi/180))\n",
    "\n",
    "nF=Matrix([cos(60*pi/180),-sin(60*pi/180),0])\n",
    "F=nF*F_Mag\n",
    "\n",
    "rF=Matrix([-r,0,0])\n",
    "\n",
    "FB=-F[1]\n",
    "\n",
    "\n",
    "do=20*mm\n",
    "di=16*mm\n",
    "ro=do/2\n",
    "ri=di/2\n",
    "\n",
    "I=pi/4*(ro**4-ri**4)\n",
    "J=I*2\n",
    "Q=1/12*(do**3-di**3)\n",
    "thick=do-di\n",
    "\n",
    "M=FB*r\n",
    "\n",
    "sigma_y=0\n",
    "sigma_x=-float(M*ro/I)/1e6\n",
    "tau_xy=float(T*ro/J)/1e6\n",
    "\n",
    "\n",
    "\n",
    "\n",
    "\n",
    "center=(sigma_x+sigma_y)/2\n",
    "R=(((sigma_x-sigma_y)/2)**2+tau_xy**2)**0.5\n",
    "\n",
    "#计算sigma最大值\n",
    "sigma_1=center+R\n",
    "sigma_2=center-R\n",
    "theta_p=atan((sigma_1-sigma_x)/tau_xy)\n",
    "\n",
    "#计算tau的最大值\n",
    "tau_max=R\n",
    "theta_s=atan((sigma_x-sigma_y)/(-2*tau_xy))/2\n",
    "\n",
    "print('sigma_1=',float(sigma_1))\n",
    "print('sigma_2=',float(sigma_2))\n",
    "print('theta_p=',float(theta_p*180/pi))\n",
    "print('tau_max=',float(tau_max))\n",
    "print('theta_s=',float(theta_s*180/pi))\n",
    "print('center =',center)\n",
    "\n",
    "#莫尔圆图像\n",
    "p=None #清空上一次图像\n",
    "x,y=S('x,y')\n",
    "k=tau_xy/(sigma_x-center)*-1\n",
    "p =plot_implicit(Eq((x-center)**2 + y**2, R**2),(x,center-R,center+R),(y,-R,R),aspect_ratio=(1.,1.),  points=400,show=False)\n",
    "p1=plot_implicit(Eq(k*(x-center)-y,0)       ,(x,center,sigma_x),(y,-R,R),aspect_ratio=(1.,1.),  points=400,show=False, linewidth=100)\n",
    "p.extend(p1)\n",
    "p.show()"
   ]
  },
  {
   "cell_type": "code",
   "execution_count": 25,
   "metadata": {},
   "outputs": [
    {
     "data": {
      "text/plain": [
       "(-86.2628417842251, 0, 43.13142089211255)"
      ]
     },
     "execution_count": 25,
     "metadata": {},
     "output_type": "execute_result"
    }
   ],
   "source": [
    "sigma_x,sigma_y,tau_xy"
   ]
  }
 ],
 "metadata": {
  "kernelspec": {
   "display_name": "Python 3",
   "language": "python",
   "name": "python3"
  },
  "language_info": {
   "codemirror_mode": {
    "name": "ipython",
    "version": 3
   },
   "file_extension": ".py",
   "mimetype": "text/x-python",
   "name": "python",
   "nbconvert_exporter": "python",
   "pygments_lexer": "ipython3",
   "version": "3.8.3"
  }
 },
 "nbformat": 4,
 "nbformat_minor": 4
}
