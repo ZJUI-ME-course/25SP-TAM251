{
 "cells": [
  {
   "cell_type": "code",
   "execution_count": 18,
   "metadata": {},
   "outputs": [],
   "source": [
    "from math import *\n",
    "import numpy as np\n",
    "import sympy as sy\n",
    "from sympy import integrate,diff\n",
    "mm=0.001"
   ]
  },
  {
   "cell_type": "code",
   "execution_count": 42,
   "metadata": {},
   "outputs": [
    {
     "data": {
      "text/latex": [
       "$\\displaystyle - \\frac{0.126506024096386 F}{L a^{2}}$"
      ],
      "text/plain": [
       "-0.126506024096386*F/(L*a**2)"
      ]
     },
     "execution_count": 42,
     "metadata": {},
     "output_type": "execute_result"
    }
   ],
   "source": [
    "u,L,F,a,x,sigma_all=sy.S('u,L,F,a,x,sigma_all')\n",
    "\n",
    "\n",
    "FR=F*u/L\n",
    "FL=F-FR\n",
    "\n",
    "M=FL*u\n",
    "\n",
    "I=integrate(a*x*x,[x,-3*a,3*a])+integrate(6*a*x*x,[x,3*a,4*a])*2\n",
    "y=4*a\n",
    "\n",
    "tau=M*y/I\n",
    "\n",
    "Fall=83/2*(a**3*sigma_all)/(u*(1-u/L))\n",
    "Fall_d=diff(Fall,u,1)\n",
    "\n",
    "t=a\n",
    "V_max=F\n",
    "\n",
    "m1=6*a*a\n",
    "m2=3*a*a\n",
    "y1=0.5*a+3*a\n",
    "y2=6/2/2*a\n",
    "ybar=(m1*y1+m2*y2)/(m1+m2)\n",
    "Q=(m1+m2)*ybar\n",
    "Q=(3*a+0.5*a)*a*6*a\n",
    "\n",
    "tau=V_max*Q/I/t\n",
    "\n",
    "tau=Q*(F-F*u/L)/(I*t)\n",
    "tau_d=diff(tau,u,1)\n",
    "\n",
    "tau_d"
   ]
  }
 ],
 "metadata": {
  "kernelspec": {
   "display_name": "Python 3",
   "language": "python",
   "name": "python3"
  },
  "language_info": {
   "codemirror_mode": {
    "name": "ipython",
    "version": 3
   },
   "file_extension": ".py",
   "mimetype": "text/x-python",
   "name": "python",
   "nbconvert_exporter": "python",
   "pygments_lexer": "ipython3",
   "version": "3.8.3"
  }
 },
 "nbformat": 4,
 "nbformat_minor": 4
}
