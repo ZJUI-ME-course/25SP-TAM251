{
 "cells": [
  {
   "cell_type": "code",
   "execution_count": 1,
   "metadata": {},
   "outputs": [],
   "source": [
    "from sympy import *"
   ]
  },
  {
   "cell_type": "code",
   "execution_count": 35,
   "metadata": {},
   "outputs": [
    {
     "data": {
      "text/latex": [
       "$\\displaystyle \\frac{L^{2} T a}{2 E_{m} I_{z}}$"
      ],
      "text/plain": [
       "L**2*T*a/(2*E_m*I_z)"
      ]
     },
     "execution_count": 35,
     "metadata": {},
     "output_type": "execute_result"
    }
   ],
   "source": [
    "h,a,L,T,E_m,I_z,x,c1,c2,k1,k2,n,p=S('h,a,L,T,E_m,I_z,x,c1,c2,k1,k2,n,p')\n",
    "\n",
    "y=(integrate(integrate(T*a,x)+c1,x)+c2)/E_m/I_z\n",
    "\n",
    "equ1=diff(y,x,0).subs(x,L)\n",
    "equ2=diff(y,x,1).subs(x,L)\n",
    "\n",
    "\n",
    "ans=solve([equ1,equ2],[c1,c2])\n",
    "c1_v=ans[c1]\n",
    "c2_v=ans[c2]\n",
    "\n",
    "y.subs(c1,c1_v).subs(c2,c2_v).subs(x,0)"
   ]
  },
  {
   "cell_type": "code",
   "execution_count": 37,
   "metadata": {},
   "outputs": [
    {
     "data": {
      "text/latex": [
       "$\\displaystyle \\frac{L^{2} k_{1} k_{2} n p}{E_{m} I_{z} \\left(k_{1} + k_{2}\\right)}$"
      ],
      "text/plain": [
       "L**2*k1*k2*n*p/(E_m*I_z*(k1 + k2))"
      ]
     },
     "execution_count": 37,
     "metadata": {},
     "output_type": "execute_result"
    }
   ],
   "source": [
    "yr=1/E_m/I_z*(n*p*k1*k2/(k1+k2)*x**2+c1*x+c2)\n",
    "equ1=diff(yr,x,0).subs(x,L)\n",
    "equ2=diff(yr,x,1).subs(x,L)\n",
    "\n",
    "ans=solve([equ1,equ2],[c1,c2])\n",
    "c1_v=ans[c1]\n",
    "c2_v=ans[c2]\n",
    "\n",
    "\n",
    "y.subs(c1,c1_v).subs(c2,c2_v).subs(x,0)"
   ]
  }
 ],
 "metadata": {
  "kernelspec": {
   "display_name": "Python 3",
   "language": "python",
   "name": "python3"
  },
  "language_info": {
   "codemirror_mode": {
    "name": "ipython",
    "version": 3
   },
   "file_extension": ".py",
   "mimetype": "text/x-python",
   "name": "python",
   "nbconvert_exporter": "python",
   "pygments_lexer": "ipython3",
   "version": "3.8.3"
  }
 },
 "nbformat": 4,
 "nbformat_minor": 4
}
