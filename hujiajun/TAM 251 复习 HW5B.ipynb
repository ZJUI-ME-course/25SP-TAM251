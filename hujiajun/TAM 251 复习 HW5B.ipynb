{
 "cells": [
  {
   "cell_type": "code",
   "execution_count": 15,
   "metadata": {},
   "outputs": [],
   "source": [
    "from sympy import *\n",
    "import numpy as np\n",
    "MPa=1"
   ]
  },
  {
   "cell_type": "code",
   "execution_count": 27,
   "metadata": {},
   "outputs": [
    {
     "data": {
      "text/plain": [
       "(65.59296258285482, 20.592962582854824)"
      ]
     },
     "execution_count": 27,
     "metadata": {},
     "output_type": "execute_result"
    }
   ],
   "source": [
    "sigma_x=-13*MPa\n",
    "sigma_y=+8*MPa\n",
    "tau_xy =+12*MPa\n",
    "\n",
    "theta=S('theta')\n",
    "\n",
    "c=(sigma_x+sigma_y)/2\n",
    "r=(((sigma_x-sigma_y)/2)**2+tau_xy**2)**0.5\n",
    "\n",
    "theta_p=np.arctan2(2*tau_xy,sigma_x-sigma_y)/2\n",
    "theta_s=np.arctan2(-(sigma_x-sigma_y)/2,tau_xy)/2\n",
    "\n",
    "#sigma_xx=(sigma_x+sigma_y)/2+(sigma_x-sigma_y)/2*cos(2*theta)+tau_xy*sin(2*theta)\n",
    "#sigma_yy=(sigma_x+sigma_y)/2-(sigma_x-sigma_y)/2*cos(2*theta)-tau_xy*sin(2*theta)\n",
    "\n",
    "float(theta_p*180/pi),float(theta_s*180/pi)"
   ]
  },
  {
   "cell_type": "code",
   "execution_count": 28,
   "metadata": {},
   "outputs": [
    {
     "data": {
      "text/plain": [
       "15.945218719101975"
      ]
     },
     "execution_count": 28,
     "metadata": {},
     "output_type": "execute_result"
    }
   ],
   "source": [
    "r"
   ]
  },
  {
   "cell_type": "code",
   "execution_count": 40,
   "metadata": {},
   "outputs": [
    {
     "data": {
      "text/plain": [
       "(27.08495283014151, -20.08495283014151, -61.00269160404174, 73.99730839595824)"
      ]
     },
     "execution_count": 40,
     "metadata": {},
     "output_type": "execute_result"
    }
   ],
   "source": [
    "sx = -9; \n",
    "sy = 16;\n",
    "txy = -20;\n",
    "\n",
    "sigma_x=sx\n",
    "sigma_y=sy\n",
    "tau_xy=txy\n",
    "\n",
    "c=(sigma_x+sigma_y)/2\n",
    "r=((0.5*sigma_x-0.5*sigma_y)**2+tau_xy**2)**0.5\n",
    "\n",
    "\n",
    "\n",
    "s1=c+r\n",
    "s2=c-r\n",
    "\n",
    "theta_p=np.arctan2(2*tau_xy,sigma_x-sigma_y)/2\n",
    "theta_s=np.arctan2(-sigma_x+sigma_y,2*tau_xy)/2\n",
    "\n",
    "s1,s2,float(theta_p*180/pi),float(theta_s*180/pi)"
   ]
  },
  {
   "cell_type": "code",
   "execution_count": 60,
   "metadata": {},
   "outputs": [
    {
     "data": {
      "text/plain": [
       "(14.821933912736911, 28.025, 0, 28.025, 14.821933912736911, 6.918176481351516)"
      ]
     },
     "execution_count": 60,
     "metadata": {},
     "output_type": "execute_result"
    }
   ],
   "source": [
    "import numpy as np\n",
    "\n",
    "\n",
    "kPa=1000\n",
    "k=1000\n",
    "mm=0.001\n",
    "\n",
    "p=1475*kPa\n",
    "F=12*k\n",
    "t=11*mm\n",
    "r=209*mm\n",
    "\n",
    "ro=r+t\n",
    "ri=r\n",
    "\n",
    "S=pi*(ro**2-ri**2)\n",
    "I=pi/8*(ro**4-ri**4)\n",
    "J=I*2\n",
    "\n",
    "#sigma_x\n",
    "sigma_x1=p*r/(2*t)\n",
    "sigma_x2=F/S\n",
    "sigma_x=sigma_x1+sigma_x2\n",
    "\n",
    "#sigma_y\n",
    "sigma_y1=p*r/t\n",
    "sigma_y=sigma_y1\n",
    "\n",
    "#tau_xy\n",
    "tau_xy=0\n",
    "\n",
    "c=0.5*sigma_x+0.5*sigma_y\n",
    "r=(tau_xy**2+(0.5*sigma_x-0.5*sigma_y)**2)**0.5\n",
    "\n",
    "s1=c+r\n",
    "s2=c-r\n",
    "\n",
    "#theta_p=np.arctan2(2*tau_xy,sigma_x-sigma_y)/2\n",
    "#theta_s=np.arctan2(-sigma_x+sigma_y,2*tau_xy)/2\n",
    "\n",
    "sigma_Y=(s1**2-s1*s2+s2**2)**0.5\n",
    "\n",
    "float(sigma_x/1e6),float(sigma_y/1e6),tau_xy,float(s1)/1e6,float(s2)/1e6,float(168*1000000/sigma_Y)"
   ]
  },
  {
   "cell_type": "code",
   "execution_count": 59,
   "metadata": {},
   "outputs": [
    {
     "data": {
      "text/plain": [
       "24283855.78957939"
      ]
     },
     "execution_count": 59,
     "metadata": {},
     "output_type": "execute_result"
    }
   ],
   "source": [
    "float(sigma_Y)"
   ]
  }
 ],
 "metadata": {
  "kernelspec": {
   "display_name": "Python 3",
   "language": "python",
   "name": "python3"
  },
  "language_info": {
   "codemirror_mode": {
    "name": "ipython",
    "version": 3
   },
   "file_extension": ".py",
   "mimetype": "text/x-python",
   "name": "python",
   "nbconvert_exporter": "python",
   "pygments_lexer": "ipython3",
   "version": "3.8.3"
  }
 },
 "nbformat": 4,
 "nbformat_minor": 4
}
