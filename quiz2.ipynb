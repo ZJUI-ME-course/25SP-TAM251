{
 "cells": [
  {
   "cell_type": "code",
   "execution_count": null,
   "metadata": {},
   "outputs": [],
   "source": [
    "# 1\n",
    "derta=0.02\n",
    "L=14\n",
    "\n",
    "E=29567\n",
    "alpha=8e-6\n",
    "dertaT=-42\n",
    "A=1\n",
    "\n",
    "\n",
    "derta1=alpha*dertaT*L\n",
    "-(derta1+derta)/L*E\n"
   ]
  },
  {
   "cell_type": "code",
   "execution_count": null,
   "metadata": {},
   "outputs": [],
   "source": [
    "# 2\n",
    "\n",
    "E1=65\n",
    "E2=234\n",
    "d1=21\n",
    "d2=50\n",
    "p=85e3\n",
    "\n",
    "from sympy import *\n",
    "A1=(d1/2)**2*3.1415\n",
    "A2=(d2**2-d1**2)/4*3.1415\n",
    "l=750e3\n",
    "from sympy import *\n",
    "derta=S('derta')\n",
    "\n",
    "f1=derta/l*E2*A1\n",
    "f2=derta/l*E2*A2\n",
    "\n",
    "q1=p-f1-f2\n",
    "derta=solve(q1,derta)\n",
    "# sigma=derta/l*E1"
   ]
  },
  {
   "cell_type": "code",
   "execution_count": null,
   "metadata": {},
   "outputs": [
    {
     "data": {
      "text/latex": [
       "$\\displaystyle -17.7979386871314$"
      ],
      "text/plain": [
       "-17.7979386871314"
      ]
     },
     "execution_count": 51,
     "metadata": {},
     "output_type": "execute_result"
    }
   ],
   "source": [
    "\n",
    "eE1=75\n",
    "eE2=249\n",
    "d1=26e-3\n",
    "d2=48e-3\n",
    "p=85e3\n",
    "\n",
    "from sympy import *\n",
    "aA1=(d1/2)**2*3.1415\n",
    "aA2=(d2**2-d1**2)/4*3.1415\n",
    "\n",
    "l=750e-3\n",
    "from sympy import *\n",
    "derta=S('derta')\n",
    "\n",
    "f1=derta/l*eE1*aA1\n",
    "f2=derta/l*eE2*aA2\n",
    "\n",
    "q1=p-f1-f2\n",
    "\n",
    "-solve(q1,derta)[0]/1e6/l*eE1\n",
    "\n",
    "# 注意符号\n",
    "\n"
   ]
  },
  {
   "cell_type": "code",
   "execution_count": 60,
   "metadata": {},
   "outputs": [
    {
     "name": "stdout",
     "output_type": "stream",
     "text": [
      "0.113176848420903\n",
      "-0.00424413181578388\n"
     ]
    }
   ],
   "source": [
    "Ep=3e9\n",
    "vp=0.5\n",
    "p=300\n",
    "l=200e-3\n",
    "d=15e-3\n",
    "r=d/2\n",
    "\n",
    "A=r**2*pi\n",
    "dertax=p/A/Ep*l*1e3\n",
    "print(dertax.evalf())\n",
    "ex=dertax/l\n",
    "ey=-ex*vp\n",
    "dertay=ey*d\n",
    "print(dertay.evalf())\n"
   ]
  },
  {
   "cell_type": "code",
   "execution_count": 67,
   "metadata": {},
   "outputs": [
    {
     "name": "stdout",
     "output_type": "stream",
     "text": [
      "-28.5312706039618 31.5642978073011\n"
     ]
    }
   ],
   "source": [
    "# \n",
    "\n",
    "from sympy import *\n",
    "\n",
    "derta=S('derta')\n",
    "\n",
    "l1=286e-3\n",
    "l2=494e-3\n",
    "d1=30e-3\n",
    "d2=40e-3\n",
    "eE1=101e9\n",
    "eE2=193e9\n",
    "p=80e3\n",
    "s1=(d1/2)**2*pi\n",
    "s2=(d2/2)**2*pi\n",
    "\n",
    "derta=S('derta')\n",
    "f1=derta/l1*eE1*s1\n",
    "f2=derta/l2*eE2*s2\n",
    "q1=p-f1-f1-f2\n",
    "derta=solve(q1,derta)[0]\n",
    "sigma1=derta/l1*eE1\n",
    "sigma2=derta/l2*eE2\n",
    "print(-sigma1/1e6,sigma2/1e6)\n"
   ]
  }
 ],
 "metadata": {
  "kernelspec": {
   "display_name": "Python 3",
   "language": "python",
   "name": "python3"
  },
  "language_info": {
   "codemirror_mode": {
    "name": "ipython",
    "version": 3
   },
   "file_extension": ".py",
   "mimetype": "text/x-python",
   "name": "python",
   "nbconvert_exporter": "python",
   "pygments_lexer": "ipython3",
   "version": "3.9.6"
  }
 },
 "nbformat": 4,
 "nbformat_minor": 2
}
