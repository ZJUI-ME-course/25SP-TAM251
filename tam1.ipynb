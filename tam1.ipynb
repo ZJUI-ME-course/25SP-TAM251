{
 "cells": [
  {
   "cell_type": "code",
   "execution_count": 3,
   "metadata": {},
   "outputs": [
    {
     "name": "stdout",
     "output_type": "stream",
     "text": [
      "56.58842421045168\n",
      "-3.013584721266657\n",
      "56.58842421045168\n"
     ]
    }
   ],
   "source": [
    "from math import *\n",
    "f1=4\n",
    "f2=8\n",
    "f3=8\n",
    "f4=4\n",
    "a1=0.3\n",
    "a2=1.3\n",
    "a3=0.3\n",
    "\n",
    "print(f1/(a1/2)**2/pi)\n",
    "print((f1-f2)/(a2/2)**2/pi)\n",
    "print((f3+f1-f2)/(a3/2)**2/pi)\n"
   ]
  },
  {
   "cell_type": "code",
   "execution_count": 6,
   "metadata": {},
   "outputs": [
    {
     "name": "stdout",
     "output_type": "stream",
     "text": [
      "50.751879699248114\n",
      "95.22844240401496\n"
     ]
    }
   ],
   "source": [
    "f=27e3\n",
    "d=19\n",
    "t=28\n",
    "print(f/d/t)\n",
    "a2=(d/2)**2*pi\n",
    "print(f/a2)\n"
   ]
  },
  {
   "cell_type": "code",
   "execution_count": null,
   "metadata": {},
   "outputs": [],
   "source": []
  }
 ],
 "metadata": {
  "kernelspec": {
   "display_name": "Python 3",
   "language": "python",
   "name": "python3"
  },
  "language_info": {
   "codemirror_mode": {
    "name": "ipython",
    "version": 3
   },
   "file_extension": ".py",
   "mimetype": "text/x-python",
   "name": "python",
   "nbconvert_exporter": "python",
   "pygments_lexer": "ipython3",
   "version": "3.12.6"
  }
 },
 "nbformat": 4,
 "nbformat_minor": 2
}
