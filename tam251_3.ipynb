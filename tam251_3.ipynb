{
 "cells": [
  {
   "cell_type": "code",
   "execution_count": null,
   "metadata": {},
   "outputs": [
    {
     "name": "stdout",
     "output_type": "stream",
     "text": [
      "0.09176501223316491\n",
      "-0.0020647127752462103\n"
     ]
    }
   ],
   "source": [
    "# 3.1\n",
    "from math import *\n",
    "# ======================\n",
    "\n",
    "d=15e-3\n",
    "Ep=3.7e9\n",
    "# 泊松比\n",
    "vp=0.3\n",
    "# ======================\n",
    "\n",
    "\n",
    "\n",
    "l=200e-3\n",
    "f=300\n",
    "A=pi/4*d**2\n",
    "\n",
    "# 长度变化量etal\n",
    "etal=f/A*l/Ep\n",
    "print(etal*1e3)\n",
    "# 轴向应变 el\n",
    "\n",
    "el=etal/l\n",
    "ed=-vp*el\n",
    "etad=ed*d\n",
    "print(etad*1e3)\n"
   ]
  },
  {
   "cell_type": "code",
   "execution_count": 8,
   "metadata": {},
   "outputs": [
    {
     "name": "stdout",
     "output_type": "stream",
     "text": [
      "28.999303870888067\n",
      "-0.8669756703170273\n",
      "0.19793965075731215\n"
     ]
    }
   ],
   "source": [
    "# 3.2\n",
    "\n",
    "\n",
    "\n",
    "d=25e-3\n",
    "l0=219e-3\n",
    "f=130e3\n",
    "eta=2e-3\n",
    "sigmay=332e6 #pa\n",
    "G=109e9 #pa\n",
    "\n",
    "\n",
    "A=pi/4*d**2\n",
    "\n",
    "\n",
    "sigma=f/A \n",
    "e=eta/l0\n",
    "E=sigma/e\n",
    "print(E/1e9)\n",
    "v=E/G/2-1\n",
    "print(v)\n",
    "\n",
    "\n",
    "\n",
    "et=-v\n",
    "ed=-v*e*d*1e3\n",
    "print(ed)\n"
   ]
  },
  {
   "cell_type": "code",
   "execution_count": null,
   "metadata": {},
   "outputs": [],
   "source": [
    "# 3.3\n",
    "\n"
   ]
  }
 ],
 "metadata": {
  "kernelspec": {
   "display_name": "Python 3",
   "language": "python",
   "name": "python3"
  },
  "language_info": {
   "codemirror_mode": {
    "name": "ipython",
    "version": 3
   },
   "file_extension": ".py",
   "mimetype": "text/x-python",
   "name": "python",
   "nbconvert_exporter": "python",
   "pygments_lexer": "ipython3",
   "version": "3.12.6"
  }
 },
 "nbformat": 4,
 "nbformat_minor": 2
}
