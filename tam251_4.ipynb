{
 "cells": [
  {
   "cell_type": "code",
   "execution_count": 9,
   "metadata": {},
   "outputs": [
    {
     "data": {
      "text/plain": [
       "0.0005687908293480536"
      ]
     },
     "execution_count": 9,
     "metadata": {},
     "output_type": "execute_result"
    }
   ],
   "source": [
    "# 1\n",
    "from sympy import *\n",
    "\n",
    "P=819\n",
    "l=2\n",
    "E=55e9\n",
    "d=10e-3\n",
    "a=1\n",
    "\n",
    "# ======\n",
    "A=d**2/4*pi \n",
    "\n",
    "f=1.5*P\n",
    "\n",
    "derta=f/A/E*l\n",
    "\n",
    "float(derta/a)"
   ]
  },
  {
   "cell_type": "code",
   "execution_count": null,
   "metadata": {},
   "outputs": [
    {
     "name": "stdout",
     "output_type": "stream",
     "text": [
      "-182.034954084936 -20.9650459150638\n"
     ]
    }
   ],
   "source": [
    "# 2 \n",
    "\n",
    "\n",
    "d1=50e-3\n",
    "A1=d1**2/4*pi\n",
    "d2=25e-3\n",
    "A2=d2**2/4*pi\n",
    "\n",
    "l1=600e-3\n",
    "l2=600e-3\n",
    "\n",
    "l3=0.15e-3\n",
    "\n",
    "\n",
    "P=203e3\n",
    "E=200e9\n",
    "\n",
    "\n",
    "\n",
    "f2=S('f2')\n",
    "\n",
    "\n",
    "# 看书p145 左边作为定点先用p然后补回来fd\n",
    "derta1=P*l1/A1/E\n",
    "derta2=f2*l2/A2/E+f2*l1/A1/E\n",
    "\n",
    "q1=-l3+derta1-derta2\n",
    "f2=solve([q1],[f2])[f2]\n",
    "f1=P-f2 \n",
    "\n",
    "\n",
    "\n",
    "print(-f1/1e3,-f2/1e3)\n",
    "\n",
    "# 正负号 cnm！！！！！！！！！！！！！\n",
    "# 做了两节课 发现是正负号错了 我真tm直接死了\n",
    "# 而且问了同学，先侮辱一波我，然后也不给我代码，我真是直tm接红温了\n",
    "# 我真是服了 这tm是人我吃\n"
   ]
  },
  {
   "cell_type": "code",
   "execution_count": null,
   "metadata": {},
   "outputs": [
    {
     "data": {
      "text/plain": [
       "[180434.954084936]"
      ]
     },
     "execution_count": 45,
     "metadata": {},
     "output_type": "execute_result"
    }
   ],
   "source": [
    "\n",
    "# d1=50e-3\n",
    "# A1=d1**2/4*pi\n",
    "# d2=25e-3\n",
    "# A2=d2**2/4*pi\n",
    "# l1=600e-3\n",
    "# l2=600e-3\n",
    "# l3=0.15e-3\n",
    "\n",
    "\n",
    "# P=201e3\n",
    "# E=200e9\n",
    "\n",
    "\n",
    "# f1=S('f1')\n",
    "\n",
    "# derta1=f1*l1/A1/E\n",
    "# derta2=(P-f1)*l2/A2/E\n",
    "# q1=derta1-derta2-l3\n",
    "# solve(q1,f1)\n"
   ]
  },
  {
   "cell_type": "code",
   "execution_count": 47,
   "metadata": {},
   "outputs": [
    {
     "data": {
      "text/plain": [
       "2.8617398045923537"
      ]
     },
     "execution_count": 47,
     "metadata": {},
     "output_type": "execute_result"
    }
   ],
   "source": [
    "# 3\n",
    "#HW5.3 没什么问题\n",
    "########################\n",
    "L = 1704e-3 # mm\n",
    "di = 25e-3 # mm\n",
    "do = 36e-3 # mm\n",
    "G = 35e9 # GPa\n",
    "T = 1014 # N.m\n",
    "########################\n",
    "\n",
    "ri=0.5*di\n",
    "ro=0.5*do\n",
    "\n",
    "#计算极惯性矩\n",
    "J=pi/2*(ro**4-ri**4)\n",
    "\n",
    "#G剪切模量→kt剪切系数\n",
    "kt=G*J/L\n",
    "delta_phi=T/kt\n",
    "\n",
    "shear_strain=delta_phi*ri/L\n",
    "\n",
    "float(shear_strain*1000)\n",
    "\n"
   ]
  },
  {
   "cell_type": "code",
   "execution_count": null,
   "metadata": {},
   "outputs": [
    {
     "name": "stdout",
     "output_type": "stream",
     "text": [
      "168.835592450088\n",
      "0.08346666666666673\n"
     ]
    }
   ],
   "source": [
    "# 4\n",
    "\n",
    "\n",
    "a = 1256e-3\n",
    "b = 1565e-3 \n",
    "d = 30e-3\n",
    "G = 50e9\n",
    "tall = 40e6\n",
    "\n",
    "\n",
    "#######################复制部分\n",
    "\n",
    "r=d/2\n",
    "p=S('p')\n",
    "#自定义计算圆的极惯性矩\n",
    "\n",
    "\n",
    "def j(r):\n",
    "    return pi/32*(2*r)**4\n",
    "j=j(r)\n",
    "\n",
    "#计算torque\n",
    "tor=p*a\n",
    "\n",
    "#剪切模量→剪切系数\n",
    "kt=G*j/b\n",
    "\n",
    "phi=tor/kt\n",
    "\n",
    "shear_stress=tor*r/j\n",
    "equ=shear_stress-tall\n",
    "\n",
    "p_v=solve([equ],[p])[p]\n",
    "\n",
    "print(p_v)\n",
    "print(float(phi.subs(p,p_v)))"
   ]
  },
  {
   "cell_type": "code",
   "execution_count": null,
   "metadata": {},
   "outputs": [],
   "source": [
    "# 5\n",
    "\n"
   ]
  }
 ],
 "metadata": {
  "kernelspec": {
   "display_name": "Python 3",
   "language": "python",
   "name": "python3"
  },
  "language_info": {
   "codemirror_mode": {
    "name": "ipython",
    "version": 3
   },
   "file_extension": ".py",
   "mimetype": "text/x-python",
   "name": "python",
   "nbconvert_exporter": "python",
   "pygments_lexer": "ipython3",
   "version": "3.9.6"
  }
 },
 "nbformat": 4,
 "nbformat_minor": 2
}
