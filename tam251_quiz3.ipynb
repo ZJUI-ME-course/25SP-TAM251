{
 "cells": [
  {
   "cell_type": "code",
   "execution_count": null,
   "metadata": {},
   "outputs": [
    {
     "name": "stdout",
     "output_type": "stream",
     "text": [
      "0.03040462975778546\n"
     ]
    }
   ],
   "source": [
    "# 4-10\n",
    "r2=109e-3\n",
    "r1=34e-3\n",
    "k=4e-6\n",
    "T=674\n",
    "\n",
    "\n",
    "t1=T\n",
    "t2=T/r1*r2\n",
    "\n",
    "fai1=t1*k\n",
    "fai2=t2*k\n",
    "fai=fai1+fai2*r2/r1\n",
    "print(fai)\n"
   ]
  },
  {
   "cell_type": "code",
   "execution_count": null,
   "metadata": {},
   "outputs": [
    {
     "name": "stdout",
     "output_type": "stream",
     "text": [
      "235.785100876882 58.5128467249615\n"
     ]
    }
   ],
   "source": [
    "# 4-9\n",
    "# 只有一个东西，所以j是相同的\n",
    "\n",
    "from sympy import *\n",
    "T=10e3\n",
    "ra=30e-3\n",
    "rb=50e-3\n",
    "\n",
    "ja=pi/2*ra**4\n",
    "jb=pi/2*rb**4-ja\n",
    "taoa=T*ra/ja\n",
    "taob=T*rb/jb\n",
    "\n",
    "print(taoa.evalf()/1e6,taob.evalf()/1e6)"
   ]
  },
  {
   "cell_type": "code",
   "execution_count": null,
   "metadata": {},
   "outputs": [
    {
     "name": "stdout",
     "output_type": "stream",
     "text": [
      "19.8371840145911\n"
     ]
    }
   ],
   "source": [
    "# 4-8\n",
    "tao=96e6\n",
    "T=45e3\n",
    "d=150e-3\n",
    "t=S('t')\n",
    "j=pi/32*(d**4-(d-2*t)**4)\n",
    "q1=tao-T*d/2/j\n",
    "print(solve(q1,t)[0]*1e3)\n"
   ]
  },
  {
   "cell_type": "code",
   "execution_count": null,
   "metadata": {},
   "outputs": [],
   "source": [
    "# 4-7\n",
    "l=43\n",
    "Ga=4000e3\n",
    "Gs=10000e3\n",
    "do=4\n",
    "di=3\n",
    "tb=1e3\n",
    "\n",
    "k"
   ]
  },
  {
   "cell_type": "code",
   "execution_count": null,
   "metadata": {},
   "outputs": [
    {
     "name": "stdout",
     "output_type": "stream",
     "text": [
      "0.000556701030927835/pi\n",
      "0.000177203441793038\n"
     ]
    }
   ],
   "source": [
    "# 5.1\n",
    "da=6\n",
    "ds=4\n",
    "Gs=10000e3\n",
    "Ga=5000e3\n",
    "tb=3e3\n",
    "l=45\n",
    "\n",
    "ta=S('ta')\n",
    "ts=S('ts')\n",
    "js=pi/2*(ds/2)**4\n",
    "ja=pi/2*(da/2)**4-js\n",
    "\n",
    "q1=ta*l/Ga/ja-ts*l/Gs/js\n",
    "q2=ta+ts-tb\n",
    "\n",
    "an=solve([q1,q2],[ta,ts])\n",
    "ts=an[ts]\n",
    "fai=ts*l/Gs/js\n",
    "print(fai.evalf())\n",
    "\n",
    "\n"
   ]
  },
  {
   "cell_type": "code",
   "execution_count": null,
   "metadata": {},
   "outputs": [],
   "source": [
    "# 5.2\n",
    "di=33e-3\n",
    "tb=1548\n",
    "tc=453\n",
    "G=103e6\n",
    "l=1120e-3"
   ]
  },
  {
   "cell_type": "code",
   "execution_count": null,
   "metadata": {},
   "outputs": [],
   "source": [
    "# 5.9\n",
    "G=66e9\n",
    "do=57e-3\n",
    "di=do/2\n",
    "l=151e-3\n",
    "tb=1456\n",
    "\n",
    "def j(r):\n",
    "    return pi/2*r**4\n",
    "\n",
    "j1=j(do/2)-j(di/2)\n",
    "j2=j(do/2)\n",
    "ta=S('ta')\n",
    "q1=-ta/G/j1+(-ta-tb)/G/j2\n",
    "\n",
    "solve(q1,)\n",
    "\n"
   ]
  },
  {
   "cell_type": "code",
   "execution_count": null,
   "metadata": {},
   "outputs": [
    {
     "name": "stdout",
     "output_type": "stream",
     "text": [
      "564.065546781850\n",
      "67.0032009315745 17.6296478131069 63.0287273048368\n"
     ]
    }
   ],
   "source": [
    "# 5.7\n",
    "\n",
    "l1=248e-3\n",
    "l2=620e-3\n",
    "l3=271e-3\n",
    "di=35e-3\n",
    "do=59e-3\n",
    "tb=1275\n",
    "tc=1516\n",
    "ta=S('ta')\n",
    "td=S('ts')\n",
    "G=65e9\n",
    "\n",
    "def j(d):\n",
    "    return pi/32*d**4\n",
    "j1=j(di)\n",
    "j2=j(do)\n",
    "j3=j2-j1\n",
    "\n",
    "q1=-ta*l1/j1/G+(tb-ta)*l2/j2/G+(tc+tb-ta)*l3/G/j3\n",
    "ta=solve([q1],[ta])[ta]\n",
    "\n",
    "\n",
    "tao1=ta*di/2/j1/1e6\n",
    "tao2=(tb-ta)*do/2/j2/1e6\n",
    "tao3=(tc+tb-ta)*do/2/j3/1e6\n",
    "\n",
    "print(tao1.evalf(),tao2.evalf(),tao3.evalf())\n",
    "\n"
   ]
  },
  {
   "cell_type": "code",
   "execution_count": 39,
   "metadata": {},
   "outputs": [
    {
     "data": {
      "text/latex": [
       "$\\displaystyle 8.12458316534474$"
      ],
      "text/plain": [
       "8.12458316534474"
      ]
     },
     "execution_count": 39,
     "metadata": {},
     "output_type": "execute_result"
    }
   ],
   "source": [
    "# 5.6\n",
    "tw=4138e-3\n",
    "r1=128e-3\n",
    "r2=44e-3\n",
    "d=28e-3\n",
    "j=pi/32*d**4\n",
    "te=tw/r2*r1/r2*r1\n",
    "tao=te*d/2/j/1e6\n",
    "tao.evalf()"
   ]
  },
  {
   "cell_type": "code",
   "execution_count": 40,
   "metadata": {},
   "outputs": [
    {
     "name": "stdout",
     "output_type": "stream",
     "text": [
      "-0.0589963636363636/pi -0.0139636363636364/pi\n",
      "1.86861316601881\n"
     ]
    }
   ],
   "source": [
    "# 5.2\n",
    "G=11e6\n",
    "t1=71 # lb*ft\n",
    "d=1\n",
    "\n",
    "t2=40 # lb*ft\n",
    "r1=6\n",
    "r2=4\n",
    "\n",
    "l1=10\n",
    "l2=30\n",
    "l3=8\n",
    "l4=10\n",
    "\n",
    "\n",
    "j=pi/2*(d/2)**4\n",
    "t21=-t1/r1*r2\n",
    "\n",
    "# 单位 1 ft=12 in\n",
    "fai1=((-60)*12*l2+(t1-60)*12*l1)/G/j\n",
    "fai2=(-(40)*12*l4)/G/j\n",
    "print(fai1,fai2)\n",
    "fai=fai1*r1/r2+fai2\n",
    "fai=fai*180/pi\n",
    "\n",
    "print(-fai.evalf())\n"
   ]
  }
 ],
 "metadata": {
  "kernelspec": {
   "display_name": "Python 3",
   "language": "python",
   "name": "python3"
  },
  "language_info": {
   "codemirror_mode": {
    "name": "ipython",
    "version": 3
   },
   "file_extension": ".py",
   "mimetype": "text/x-python",
   "name": "python",
   "nbconvert_exporter": "python",
   "pygments_lexer": "ipython3",
   "version": "3.9.6"
  }
 },
 "nbformat": 4,
 "nbformat_minor": 2
}
