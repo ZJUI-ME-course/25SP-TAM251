{
 "cells": [
  {
   "cell_type": "code",
   "execution_count": 57,
   "id": "5b18ff3f",
   "metadata": {},
   "outputs": [
    {
     "name": "stdout",
     "output_type": "stream",
     "text": [
      "ang: 0.000835750002572310\n"
     ]
    }
   ],
   "source": [
    "#HW05_1:\n",
    "from sympy import *\n",
    "\n",
    "L = 49\n",
    "Ga = 4000\n",
    "Gs = 10000\n",
    "da = 5\n",
    "ds = 3\n",
    "Tb = 5\n",
    "\n",
    "ang = symbols('ang')\n",
    "Ja = pi/32*(da**4-ds**4)\n",
    "Js = pi/32*(ds**4)\n",
    "eq = ang*(Ja*Ga/L+Js*Gs/L) - Tb\n",
    "ans = solve(eq,ang)\n",
    "print('ang:',ans[0].evalf())"
   ]
  },
  {
   "cell_type": "code",
   "execution_count": 26,
   "id": "3fd7c4e3",
   "metadata": {},
   "outputs": [
    {
     "name": "stdout",
     "output_type": "stream",
     "text": [
      "Ts: 1085 -443\n",
      "dr: 73.3540230635639 mm\n",
      "ang: 2.06355233223376\n"
     ]
    }
   ],
   "source": [
    "#HW05_2:\n",
    "from sympy import *\n",
    "\n",
    "di = 32*1e-3\n",
    "Tb = 1528\n",
    "Tc = 443\n",
    "G = 108*1e6\n",
    "L = 1013*1e-3\n",
    "tauMax = 14*1e6\n",
    "\n",
    "T2 = -Tc\n",
    "T1 = T2+Tb\n",
    "print('Ts:',T1,T2)\n",
    "\n",
    "dr = symbols('dr')\n",
    "J1 = pi/32*dr**4\n",
    "eq = tauMax - (T1*dr/2)/J1\n",
    "ans = solve(eq,dr)\n",
    "print('dr:',ans[0]*1e3,'mm')\n",
    "J1 = pi/32*ans[0]**4\n",
    "J2 = pi/32*(ans[0]**4-di**4)\n",
    "\n",
    "angC = (T1*L)/(J1*G)+(T2*L)/(J2*G)\n",
    "print('ang:',angC.evalf())"
   ]
  },
  {
   "cell_type": "code",
   "execution_count": 31,
   "id": "629c4fcc",
   "metadata": {},
   "outputs": [
    {
     "name": "stdout",
     "output_type": "stream",
     "text": [
      "AC: 14.6104237758360\n",
      "BC: 9.74028251722400\n"
     ]
    }
   ],
   "source": [
    "#HW05_3:\n",
    "from sympy import *\n",
    "\n",
    "G = 75*1e9\n",
    "a = 51*1e-3\n",
    "d = 40*1e-3\n",
    "\n",
    "T = 2*a*3000\n",
    "J = pi/32*d**4\n",
    "ang = symbols('ang')\n",
    "eq = ((ang*J*G/0.4)+(ang*J*G/0.6)) - T\n",
    "ans = solve(eq,ang)\n",
    "ang = ans[0]\n",
    "Tac = ang*J*G/0.4\n",
    "Tbc = ang*J*G/0.6\n",
    "tauAC = Tac*(d/2)/J\n",
    "tauBC = Tbc*(d/2)/J\n",
    "print('AC:',tauAC/1e6)\n",
    "print('BC:',tauBC/1e6)"
   ]
  },
  {
   "cell_type": "code",
   "execution_count": 74,
   "id": "623a2dab",
   "metadata": {},
   "outputs": [
    {
     "name": "stdout",
     "output_type": "stream",
     "text": [
      "1.70626347016368\n"
     ]
    },
    {
     "data": {
      "text/plain": [
       "(-0.0168901013061595,\n",
       " 0.00977454545454546/pi,\n",
       " -0.0628363636363636/pi,\n",
       " 0.0139636363636364/pi)"
      ]
     },
     "execution_count": 74,
     "metadata": {},
     "output_type": "execute_result"
    }
   ],
   "source": [
    "#HW05_4:\n",
    "from sympy import *\n",
    "\n",
    "G = 11*1e6\n",
    "d = 1\n",
    "T = 88    *12\n",
    "\n",
    "J = pi/32*d**4\n",
    "T_10 = (40*12)\n",
    "T_30 = -T_10/4*6\n",
    "T_11 = T_30+T\n",
    "ang1 = (T_11*10)/(J*G) + (T_30*30)/(J*G)\n",
    "ang2 = (T_10*10)/(J*G) + Abs(ang1*6/4)\n",
    "print((ang2/pi*180).evalf())\n",
    "ang1.evalf(),(T_11*10)/(J*G),(T_30*30)/(J*G),(T_10*10)/(J*G)"
   ]
  },
  {
   "cell_type": "code",
   "execution_count": 60,
   "id": "0db4d752",
   "metadata": {},
   "outputs": [
    {
     "name": "stdout",
     "output_type": "stream",
     "text": [
      "tauMax: 16.5265294246771\n"
     ]
    }
   ],
   "source": [
    "#HW05_5:\n",
    "from sympy import *\n",
    "\n",
    "R1 = 139*1e-3\n",
    "R2 = 45*1e-3\n",
    "d = 23*1e-3\n",
    "TW = 4138*1e-3\n",
    "\n",
    "J = pi/32*d**4\n",
    "T1 = TW\n",
    "T2 = TW/R2*R1\n",
    "T3 = T2/R2*R1\n",
    "\n",
    "tauMax = max(T1,T2,T3)*(d/2)/J\n",
    "print('tauMax:',tauMax.evalf()/1e6)"
   ]
  },
  {
   "cell_type": "code",
   "execution_count": 54,
   "id": "3b6fbd2d",
   "metadata": {},
   "outputs": [
    {
     "name": "stdout",
     "output_type": "stream",
     "text": [
      "0.00573063951556848\n"
     ]
    }
   ],
   "source": [
    "#HW05_6:\n",
    "from sympy import *\n",
    "\n",
    "R1 = 169*1e-3\n",
    "R2 = 46*1e-3\n",
    "G = 73*1e9\n",
    "d = 35*1e-3\n",
    "L = 128*1e-3\n",
    "TE = 446\n",
    "\n",
    "J = pi/32*d**4\n",
    "TG = TE/R1*R2\n",
    "TK = TG/R1*R2\n",
    "angK = (TK*L)/(G*J)\n",
    "angG = angK*R2/R1 + (TG*L)/(G*J)\n",
    "angE = angG*R2/R1 + (TE*L)/(G*J)\n",
    "print(angE.evalf())"
   ]
  },
  {
   "cell_type": "code",
   "execution_count": 50,
   "id": "0dc494f0",
   "metadata": {},
   "outputs": [
    {
     "name": "stdout",
     "output_type": "stream",
     "text": [
      "Ta and Td: -480.969892824430 -2295.03010717557\n",
      "T1,T2 and T3: -480.969892824430 789.030107175570 2295.03010717557\n",
      "-62.3234161786176\n",
      "19.5662523323720\n",
      "63.9661858645200\n"
     ]
    }
   ],
   "source": [
    "#HW05_7:\n",
    "from sympy import *\n",
    "\n",
    "G = 56*1e3\n",
    "d1 = 34*1e-3\n",
    "d2 = 59*1e-3\n",
    "L1 = 260*1e-3\n",
    "L2 = 610*1e-3\n",
    "L3 = 253*1e-3\n",
    "Tb = 1270\n",
    "Tc = 1506\n",
    "\n",
    "Ta,Td = symbols('Ta,Td')\n",
    "J1 = pi/32*d1**4\n",
    "J2 = pi/32*d2**4\n",
    "J3 = pi/32*(d2**4-d1**4)\n",
    "T1 = Ta\n",
    "T2 = T1 + Tb\n",
    "T3 = T2 + Tc\n",
    "eq1 = Ta + Td + Tb + Tc\n",
    "eq2 = (T1*L1)/(G*J1) + (T2*L2)/(G*J2) + (T3*L3)/(G*J3)\n",
    "ans = solve([eq1,eq2],[Ta,Td])\n",
    "Ta = ans[Ta]\n",
    "Td = ans[Td]\n",
    "T1 = Ta; T2 = T1 + Tb; T3 = T2 + Tc\n",
    "print('Ta and Td:',Ta,Td)\n",
    "print(\"T1,T2 and T3:\",T1,T2,T3)\n",
    "tau1 = T1*(d1/2)/J1\n",
    "tau2 = T2*(d2/2)/J2\n",
    "tau3 = T3*(d2/2)/J3\n",
    "print(tau1.evalf()/1e6)\n",
    "print(tau2.evalf()/1e6)\n",
    "print(tau3.evalf()/1e6)"
   ]
  },
  {
   "cell_type": "code",
   "execution_count": 4,
   "id": "fae85933",
   "metadata": {},
   "outputs": [
    {
     "name": "stdout",
     "output_type": "stream",
     "text": [
      "dr: 42.6957944152653\n",
      "48.1001605788839 16.6861058602654\n"
     ]
    }
   ],
   "source": [
    "#HW05_8:\n",
    "from sympy import *\n",
    "\n",
    "Tb = 510\n",
    "ds = 30*1e-3\n",
    "Gs = 75*1e9\n",
    "Gr = 39*1e9\n",
    "\n",
    "dr = symbols('dr')\n",
    "Js = pi/32*ds**4\n",
    "Jr = pi/32*dr**4\n",
    "eq = ((0.5*Tb*0.75)/(Js*Gs)-(0.5*Tb*1.6)/(Jr*Gr))\n",
    "ans = solve(eq,dr)\n",
    "dr = ans[1]\n",
    "print('dr:',dr*1e3)\n",
    "Jr = pi/32*dr**4\n",
    "taus = (0.5*Tb*(ds/2)/Js)\n",
    "taur = (0.5*Tb*(dr/2)/Jr)\n",
    "print(taus.evalf()/1e6,taur.evalf()/1e6)"
   ]
  },
  {
   "cell_type": "code",
   "execution_count": 36,
   "id": "e940a048",
   "metadata": {},
   "outputs": [
    {
     "name": "stdout",
     "output_type": "stream",
     "text": [
      "ang: 0.00130875612234271\n"
     ]
    }
   ],
   "source": [
    "#HW05_9:\n",
    "from sympy import *\n",
    "\n",
    "G = 69*1e9\n",
    "do = 60*1e-3\n",
    "di = do/2\n",
    "Tb = 1455\n",
    "L = 153*1e-3\n",
    "\n",
    "J1 = pi/32*(do**4-di**4)\n",
    "J2 = pi/32*(do**4)\n",
    "ang = symbols('ang')\n",
    "eq = ((ang*J1*G/L)+(ang*J2*G/L)) - Tb\n",
    "ans = solve(eq,ang)\n",
    "print('ang:',ans[0])"
   ]
  },
  {
   "cell_type": "code",
   "execution_count": 33,
   "id": "01f3b206",
   "metadata": {},
   "outputs": [
    {
     "name": "stdout",
     "output_type": "stream",
     "text": [
      "6.83689715790032\n"
     ]
    }
   ],
   "source": [
    "#HW05_10:\n",
    "from sympy import *\n",
    "\n",
    "tauY = 240*1e6\n",
    "G = 25*1e9\n",
    "ang = 89/180*pi\n",
    "L = 8\n",
    "a = 10*1e-3\n",
    "\n",
    "T = ang*a**4*G/(7.10*L)\n",
    "print(T.evalf())"
   ]
  },
  {
   "cell_type": "code",
   "execution_count": 3,
   "id": "b5d0819d",
   "metadata": {},
   "outputs": [
    {
     "name": "stdout",
     "output_type": "stream",
     "text": [
      "ybar: 104.0 mm\n",
      "I  : 131.32834133333333 1e6 mm^4\n",
      "sigM: 1.0777871597474733 Mpa\n"
     ]
    }
   ],
   "source": [
    "#HW06_7:\n",
    "from sympy import *\n",
    "\n",
    "h = 160 # mm\n",
    "b = 237 # mm\n",
    "t1 = 23 # mm\n",
    "t2 = 24 # mm\n",
    "Mz = 1361 # N.m\n",
    "\n",
    "A1 = (t1*2+b)*(t2*2+h)\n",
    "A2 = b*h\n",
    "ybar = ((t2+0.5*h)*A1-(t2+0.5*h)*A2)/(A1-A2)\n",
    "print('ybar:',ybar,'mm')\n",
    "\n",
    "I1 = 1/12*(b+t1*2)*(h+t2*2)**3\n",
    "I2 = 1/12*b*h**3\n",
    "I = I1-I2\n",
    "print('I  :',I/1e6,'1e6 mm^4')\n",
    "\n",
    "sigMax = Mz*(ybar*1e-3)/(I*1e-12)\n",
    "print('sigM:',sigMax/1e6,'Mpa')"
   ]
  },
  {
   "cell_type": "code",
   "execution_count": null,
   "id": "ef2e58eb",
   "metadata": {},
   "outputs": [
    {
     "name": "stdout",
     "output_type": "stream",
     "text": [
      "ybar: 42.5 mm\n",
      "I  : 23.608602666666663 1e6 mm^4\n",
      "sigM: 5.307683888336298 Mpa\n"
     ]
    }
   ],
   "source": [
    "#HW06_8:\n",
    "from sympy import *\n",
    "\n",
    "t = 17 # mm\n",
    "Mz = 1638 # N.m\n",
    "\n",
    "A1 = (10*t)*(4*t)\n",
    "A2 = (2*t)*(4*t)\n",
    "ybar = (2*t*A1-0*A2)/(A1-A2)\n",
    "print('ybar:',ybar,'mm')\n",
    "\n",
    "I1 = 1/12*(4*t)*(10*t)**3 + A1*(ybar-2*t)**2\n",
    "I2 = 1/12*(2*t)*(4*t)**3 + A2*(0-ybar)**2\n",
    "I = I1 - I2\n",
    "print('I  :',I/1e6,'1e6 mm^4')\n",
    "\n",
    "sigMax = Mz*(-ybar*1e-3+7*t*1e-3)/(I*1e-12)\n",
    "print('sigM:',sigMax/1e6,'Mpa')"
   ]
  },
  {
   "cell_type": "code",
   "execution_count": null,
   "id": "6a0d1a66",
   "metadata": {},
   "outputs": [],
   "source": [
    "#HW06_9:\n",
    "#pass"
   ]
  },
  {
   "cell_type": "code",
   "execution_count": null,
   "id": "d07bc7ed",
   "metadata": {},
   "outputs": [],
   "source": [
    "#HW06_10:\n",
    "#pass"
   ]
  },
  {
   "cell_type": "code",
   "execution_count": null,
   "id": "a9f8f388",
   "metadata": {},
   "outputs": [],
   "source": [
    "#HW06_11:\n",
    "#pass"
   ]
  },
  {
   "cell_type": "code",
   "execution_count": null,
   "id": "9fa61fdd",
   "metadata": {},
   "outputs": [
    {
     "name": "stdout",
     "output_type": "stream",
     "text": [
      "ybar: 105.54266063033258 mm\n"
     ]
    }
   ],
   "source": [
    "#HW06_12:\n",
    "from sympy import *\n",
    "\n",
    "a = 1836 # mm\n",
    "b = 250 # mm\n",
    "h = 141 # mm\n",
    "t1 = 23 # mm\n",
    "t2 = 20 # mm\n",
    "sigmaT = 12 # MPa\n",
    "sigmaC = 12 # MPa\n",
    "\n",
    "A1 = b*(h+t2)\n",
    "A2 = (b-2*t1)*h\n",
    "ybar = (A1*(h+t2)*0.5-A2*h*0.5)/(A1-A2)\n",
    "print('ybar:',ybar,'mm')\n",
    "\n",
    "I1 = "
   ]
  },
  {
   "cell_type": "code",
   "execution_count": null,
   "id": "01e7a559",
   "metadata": {},
   "outputs": [],
   "source": [
    "#HW07_1:\n",
    "#pass"
   ]
  },
  {
   "cell_type": "code",
   "execution_count": 15,
   "id": "a54a530c",
   "metadata": {},
   "outputs": [
    {
     "name": "stdout",
     "output_type": "stream",
     "text": [
      "11.274865372946882\n",
      "17.900470313418367\n"
     ]
    }
   ],
   "source": [
    "#HW07_2:\n",
    "from sympy import *\n",
    "\n",
    "t1 = 8 # mm\n",
    "t2 = 10 # mm\n",
    "b = 95 # mm\n",
    "h = 83 # mm\n",
    "ybar = 60.89201 # mm\n",
    "Iz = 1967794.76793 # mm^4\n",
    "Vy = 19 # kN\n",
    "Mz = 691 # N.m\n",
    "\n",
    "sigMax = min((Mz*ybar*1e-3)/(Iz*1e-12),(Mz*(h+t2-ybar)*1e-3)/(Iz*1e-12))\n",
    "print(sigMax/1e6)\n",
    "\n",
    "A1 = (t2*b)\n",
    "A2 = 2*(t1*(h-ybar))\n",
    "Aq = (A1+A2)*1e-6\n",
    "ybarq = (A1*(h+0.5*t2-ybar)+A2*(h-ybar)*0.5)/(A1+A2)\n",
    "Q = Aq*ybarq*1e-3\n",
    "\n",
    "tauMax = Vy*1e3*Q/(Iz*1e-12*(2*t1)*1e-3)\n",
    "print(tauMax/1e6)"
   ]
  },
  {
   "cell_type": "code",
   "execution_count": 27,
   "id": "c1a76be3",
   "metadata": {},
   "outputs": [
    {
     "name": "stdout",
     "output_type": "stream",
     "text": [
      "2.03221436098148\n",
      "48.6417371892475\n"
     ]
    }
   ],
   "source": [
    "#HW07_3:\n",
    "from sympy import *\n",
    "\n",
    "b = 91 # mm\n",
    "a = 622 # mm\n",
    "P = 9 # kN\n",
    "sigmaAll = 156 # MPa\n",
    "tauAll = 73 # MPa\n",
    "\n",
    "TN = 2*P/2\n",
    "Vmax = TN*2-P\n",
    "Mmax = P*a\n",
    "h = symbols('h')\n",
    "eq = 1.5*Vmax*1e3/((b*h)*1e-3) - tauAll*1e6\n",
    "ans = solve(eq,h)\n",
    "print(ans[0]*1e3)\n",
    "\n",
    "h = symbols('h')\n",
    "eq = (Mmax*0.5*h/(1/12*b*1e-3*h**3)) - sigmaAll*1e6\n",
    "ans = solve(eq,h)\n",
    "print(ans[1]*1e3)"
   ]
  },
  {
   "cell_type": "code",
   "execution_count": 42,
   "id": "32103705",
   "metadata": {},
   "outputs": [
    {
     "name": "stdout",
     "output_type": "stream",
     "text": [
      "[6.03864734299517]\n",
      "[7.26216412490922]\n"
     ]
    }
   ],
   "source": [
    "#HW07_4:\n",
    "from sympy import *\n",
    "\n",
    "h = 1 # in\n",
    "a = 40 # in\n",
    "P = 5 # kips\n",
    "s1 = 414 # psi\n",
    "s2 = 306 # psi\n",
    "\n",
    "Vmax = P*1e3\n",
    "b = symbols('b')\n",
    "eq = 1.5*Vmax/(b*3*h) - s1\n",
    "ans = solve(eq,b)\n",
    "print(ans)\n",
    "\n",
    "b = symbols('b')\n",
    "Q = (h*b)*(0.5*h+0.5*h)\n",
    "I = 1/12*b*(3*h)**3\n",
    "q = Vmax*Q/I/b\n",
    "eq = q - s2\n",
    "ans = solve(eq,b)\n",
    "print(ans)"
   ]
  },
  {
   "cell_type": "code",
   "execution_count": 46,
   "id": "abcb394f",
   "metadata": {},
   "outputs": [
    {
     "name": "stdout",
     "output_type": "stream",
     "text": [
      "0.20454545454545456 0.6136363636363636\n"
     ]
    }
   ],
   "source": [
    "#HW07_5:\n",
    "from sympy import *\n",
    "\n",
    "b = 50 # mm\n",
    "V = 5 # kN\n",
    "\n",
    "b *=1e-3; V *=1e3\n",
    "\n",
    "I1 = 1/12*(3*b)*(4*b)**3\n",
    "I2 = 1/12*(b)*(2*b)**3*2\n",
    "I = I1-I2\n",
    "\n",
    "Q1 = (b*b)*(1.5*b)\n",
    "Q2 = (b*3*b)*(1.5*b)\n",
    "q1 = V*Q1/I/b\n",
    "q2 = V*Q2/I/b\n",
    "print(q1/1e6,q2/1e6)"
   ]
  },
  {
   "cell_type": "code",
   "execution_count": 50,
   "id": "79f2e6be",
   "metadata": {},
   "outputs": [
    {
     "name": "stdout",
     "output_type": "stream",
     "text": [
      "39.2011858305751\n"
     ]
    }
   ],
   "source": [
    "#HW07_6:\n",
    "from sympy import *\n",
    "\n",
    "h = 165 # mm\n",
    "t = 50 # mm\n",
    "d = 11 # mm\n",
    "taub = 3 # MPa\n",
    "V = 3 # kN\n",
    "\n",
    "h = h*1e-3; t = t*1e-3; d = d*1e-3; taub = taub*1e6; V = V*1e3\n",
    "\n",
    "y1=h/2\n",
    "s1=2*h*t\n",
    "y2=h\n",
    "s2=h*t\n",
    "ybar=(y1*s1+y2*s2)/(s1+s2)\n",
    "I1=1/12*(t)*(h)**3+(1/2*h-ybar)**2*h*t\n",
    "I2=1/12*(t)*(h)**3+(h-ybar)**2*h*t\n",
    "I=I1*2+I2\n",
    "\n",
    "Q = (h*t)*(h-ybar)\n",
    "q = V*Q/I\n",
    "Fmax = taub*pi*d**2/4\n",
    "deltS = (Fmax*2)/q\n",
    "print(deltS.evalf()*1e3)"
   ]
  },
  {
   "cell_type": "code",
   "execution_count": null,
   "id": "75cff58e",
   "metadata": {},
   "outputs": [],
   "source": [
    "#HW07_7:\n",
    "#pass"
   ]
  },
  {
   "cell_type": "code",
   "execution_count": null,
   "id": "d883b330",
   "metadata": {},
   "outputs": [],
   "source": [
    "#HW07_8:\n",
    "#pass"
   ]
  },
  {
   "cell_type": "code",
   "execution_count": 56,
   "id": "cc5eaebd",
   "metadata": {},
   "outputs": [
    {
     "name": "stdout",
     "output_type": "stream",
     "text": [
      "790.56\n",
      "3.8915470494417863\n",
      "9.579192737087475\n"
     ]
    }
   ],
   "source": [
    "#HW07_9:\n",
    "from sympy import *\n",
    "\n",
    "b = 48 # in\n",
    "t = 9 # in\n",
    "d = 0.46 # in\n",
    "deltaS = 66 # in\n",
    "Vmax = 4 # lb\n",
    "\n",
    "I1 = 1/12*(b)*(2*t+b)**3\n",
    "I2 = 1/12*((b-t)/2)*(b)**3*2\n",
    "I = I1-I2\n",
    "print(I/1e3)\n",
    "\n",
    "Q1 = (b*t)*(0.5*b+0.5*t)\n",
    "q1 = Vmax/deltaS\n",
    "V1 = q1*I/Q1\n",
    "print(V1)\n",
    "\n",
    "Q1 = ((b-t)/2*t)*(0.5*b+0.5*t)\n",
    "q1 = Vmax/deltaS\n",
    "V1 = q1*I/Q1\n",
    "print(V1)"
   ]
  },
  {
   "cell_type": "code",
   "execution_count": 67,
   "id": "e39eda4b",
   "metadata": {},
   "outputs": [
    {
     "name": "stdout",
     "output_type": "stream",
     "text": [
      "9.42544357354344\n",
      "7.351500000000008\n",
      "-5.16434522572079\n"
     ]
    }
   ],
   "source": [
    "#HW8_3:\n",
    "from sympy import *\n",
    "\n",
    "a = 388 # mm\n",
    "b = 246 # mm\n",
    "c = 253 # mm\n",
    "do = 95 # mm\n",
    "di = 87 # mm\n",
    "p = 676 # kPa\n",
    "Py = 493 # N\n",
    "Pz = 370 # N\n",
    "\n",
    "a *=1e-3; b *=1e-3; c *=1e-3; do *=1e-3; di *=1e-3; p *=1e3\n",
    "\n",
    "t = (do-di)/2\n",
    "I = pi/64*do**4-pi/64*di**4\n",
    "J = pi/32*(do**4-di**4)\n",
    "sigx1 = (p*(di/2))/(2*t)\n",
    "sigx2 = (Pz*a)*(do/2)/I\n",
    "sigx = sigx1+sigx2\n",
    "print(sigx.evalf()/1e6)\n",
    "sigy = (p*(di/2))/(t)\n",
    "print(sigy/1e6)\n",
    "tauxy1 = (Pz*c+Py*b)*(do/2)/(J)\n",
    "A = (0.5*pi*(do**2-di**2)/4)\n",
    "ybard = ((2*do)/(3*pi)*(pi*do**2/4)/2-(2*di)/(3*pi)*(pi*di**2/4)/2)/A\n",
    "Q = A*ybard\n",
    "tauxy2 = Py*Q/(2*t*I)\n",
    "tauxy = tauxy1+tauxy2\n",
    "print(-tauxy.evalf()/1e6)"
   ]
  },
  {
   "cell_type": "code",
   "execution_count": 73,
   "id": "b23d6600",
   "metadata": {},
   "outputs": [
    {
     "name": "stdout",
     "output_type": "stream",
     "text": [
      "2.25886746980369\n",
      "15.348\n",
      "-2.19363007588971\n"
     ]
    }
   ],
   "source": [
    "#HW8_6:\n",
    "from sympy import *\n",
    "\n",
    "p = 1279 # kPa\n",
    "T = 7 # kN.m\n",
    "V = 8 # kN\n",
    "L = 1080 # mm\n",
    "t = 15 # mm\n",
    "r = 180 # mm\n",
    "\n",
    "p *=1e3; T *=1e3; V *=1e3; L *=1e-3; t *=1e-3; r *=1e-3\n",
    "\n",
    "I = pi/4*((r+t)**4-r**4)\n",
    "J = pi/2*((r+t)**4-r**4)\n",
    "sigx1 = (p*r)/(2*t)\n",
    "sigx2 = (V*L)*(r+t)/I\n",
    "sigx = sigx1-sigx2\n",
    "print(sigx.evalf()/1e6)\n",
    "sigy = (p*r)/t\n",
    "print(sigy/1e6)\n",
    "tauxy = T*(r+t)/J\n",
    "print(-tauxy.evalf()/1e6)"
   ]
  }
 ],
 "metadata": {
  "kernelspec": {
   "display_name": "base",
   "language": "python",
   "name": "python3"
  },
  "language_info": {
   "codemirror_mode": {
    "name": "ipython",
    "version": 3
   },
   "file_extension": ".py",
   "mimetype": "text/x-python",
   "name": "python",
   "nbconvert_exporter": "python",
   "pygments_lexer": "ipython3",
   "version": "3.12.7"
  }
 },
 "nbformat": 4,
 "nbformat_minor": 5
}
