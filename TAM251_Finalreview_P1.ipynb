{
 "cells": [
  {
   "cell_type": "code",
   "execution_count": 1,
   "id": "e739d486",
   "metadata": {},
   "outputs": [
    {
     "name": "stdout",
     "output_type": "stream",
     "text": [
      "sig_a: 56.5884242104517\n",
      "sig_b: -2.26018854094999\n",
      "sig_c: 39.7887357729738\n"
     ]
    }
   ],
   "source": [
    "#HW01_1:\n",
    "import numpy as np # type: ignore\n",
    "import sympy as sym # type: ignore\n",
    "from sympy import *  # type: ignore\n",
    "\n",
    "a = 0.3; b = 1.3; c = 0.4\n",
    "F1 = 4; F2 = 7; F3 = 8; F4 = 5\n",
    "\n",
    "sig_a = F1/(pi*(a/2)**2)\n",
    "sig_b = (F1-F2)/(pi*(b/2)**2)\n",
    "sig_c = F4/(pi*(c/2)**2)\n",
    "print('sig_a:',sig_a.evalf())\n",
    "print('sig_b:',sig_b.evalf())\n",
    "print('sig_c:',sig_c.evalf())"
   ]
  },
  {
   "cell_type": "code",
   "execution_count": 5,
   "id": "cff459c1",
   "metadata": {},
   "outputs": [
    {
     "name": "stdout",
     "output_type": "stream",
     "text": [
      "Vmax: 6.0 kN\n"
     ]
    }
   ],
   "source": [
    "#HW01_2:\n",
    "from sympy import *\n",
    "\n",
    "F1 = 8; F2 = 10; F3 = 4; F4 = 12; F5 = 28 #kN\n",
    "\n",
    "print('Vmax:',max(F2,F4)/2,'kN')"
   ]
  },
  {
   "cell_type": "code",
   "execution_count": 11,
   "id": "a1f5e27c",
   "metadata": {},
   "outputs": [
    {
     "name": "stdout",
     "output_type": "stream",
     "text": [
      "P  : 640.000000000000 *1e6 N\n",
      "d  : 2.40000000000000 m\n"
     ]
    }
   ],
   "source": [
    "#HW01_3:\n",
    "from sympy import *\n",
    "\n",
    "L = 4 #m\n",
    "w = 8 #m\n",
    "\n",
    "dis,d = symbols('dis,d')\n",
    "P = integrate(15*1e6*dis**0.5,(dis,0,L))*w\n",
    "print('P  :',P/1e6,'*1e6 N')\n",
    "eq = integrate(15*1e6*dis**0.5*dis,(dis,0,L))*w - P*d\n",
    "ans = solve(eq,d)\n",
    "print('d  :',ans[0],'m')"
   ]
  },
  {
   "cell_type": "code",
   "execution_count": 41,
   "id": "dc0200a0",
   "metadata": {},
   "outputs": [
    {
     "name": "stdout",
     "output_type": "stream",
     "text": [
      "sig: 40.93567251461988 Mpa\n",
      "tau: 49.3777108761559 Mpa\n"
     ]
    }
   ],
   "source": [
    "#HW01_4:\n",
    "from sympy import *\n",
    "\n",
    "F = 14*1e3  #N\n",
    "d = 19*1e-3; t = 18*1e-3 #m\n",
    "\n",
    "sig = F/(d*t)\n",
    "print('sig:',sig/1e6,'Mpa')\n",
    "tau = F/(pi*d**2/4)\n",
    "print('tau:',tau.evalf()/1e6,'Mpa')"
   ]
  },
  {
   "cell_type": "code",
   "execution_count": 39,
   "id": "7454327a",
   "metadata": {},
   "outputs": [
    {
     "name": "stdout",
     "output_type": "stream",
     "text": [
      "h1: 2.1599999999999997 in\n",
      "h2: 4.56 in\n"
     ]
    }
   ],
   "source": [
    "#HW01_5:\n",
    "from sympy import *\n",
    "\n",
    "a = 36; b = 20\n",
    "sig_f = 50\n",
    "FS = 1.5\n",
    "w  = 0.5\n",
    "\n",
    "sig_m = sig_f/FS\n",
    "h1,h2 = symbols('h1,h2')\n",
    "h1 = a/(sig_m*w)\n",
    "print('h1:',h1,'in')\n",
    "h2 = (a+2*b)/(sig_m*w)\n",
    "print('h2:',h2,'in')"
   ]
  },
  {
   "cell_type": "code",
   "execution_count": null,
   "id": "2bc38d4e",
   "metadata": {},
   "outputs": [
    {
     "name": "stdout",
     "output_type": "stream",
     "text": [
      "sig: 369.23076923076917 Mpa\n",
      "tau: 131.86813186813185 Mpa\n"
     ]
    }
   ],
   "source": [
    "#HW01_6:\n",
    "from sympy import *\n",
    "\n",
    "a = 7*1e-3; b = 13*1e-3; c = 5*1e-3; l = 14*1e-3 #m\n",
    "F = 24*1e3 #kN\n",
    "\n",
    "sig = F/(c*b)\n",
    "print('sig:',sig/1e6,'Mpa')\n",
    "tau = F/(l*b)\n",
    "print('tau:',tau/1e6,'Mpa')"
   ]
  },
  {
   "cell_type": "code",
   "execution_count": 32,
   "id": "1b2d647f",
   "metadata": {},
   "outputs": [
    {
     "name": "stdout",
     "output_type": "stream",
     "text": [
      "Dmin: 13.9724752111449 mm\n"
     ]
    }
   ],
   "source": [
    "#HW01_7:\n",
    "from sympy import *\n",
    "\n",
    "tau_f = 300*1e6 #pa\n",
    "FS = 2.3\n",
    "F = 2*40*1e3 #N\n",
    "L = 2*30*1e-3 #m\n",
    "\n",
    "tau_m = tau_f/FS\n",
    "dmin = symbols('dmin')\n",
    "Amin = pi*dmin**2/4\n",
    "eq = tau_m - (F/Amin/4)\n",
    "ans = solve(eq,dmin)\n",
    "print('Dmin:',ans[1]*1e3,'mm')"
   ]
  },
  {
   "cell_type": "code",
   "execution_count": 26,
   "id": "ac4cae35",
   "metadata": {},
   "outputs": [
    {
     "name": "stdout",
     "output_type": "stream",
     "text": [
      "Ne: -25.9155865504654 N\n",
      "Ve: -74.1506857142857 N\n",
      "Me: -2.59527400000000 Nm\n"
     ]
    }
   ],
   "source": [
    "#HW01_8:\n",
    "from sympy import *\n",
    "\n",
    "G = 2.3*9.812 #N\n",
    "ce = 35*1e-3; eb = 35*1e-3; ba = 230*1e-3\n",
    "ang = 75/180*pi\n",
    "\n",
    "Fb = G*(ce+eb+ba)/(ce+eb)/sin(ang)\n",
    "Ne = Fb*cos(ang)\n",
    "print(\"Ne:\",-Ne.evalf(),'N')\n",
    "Ve = Fb*sin(ang)-G\n",
    "print('Ve:',-Ve.evalf(),'N')\n",
    "Me = Ve*ce\n",
    "print('Me:',-Me,'Nm')"
   ]
  },
  {
   "cell_type": "code",
   "execution_count": 18,
   "id": "50eceb95",
   "metadata": {},
   "outputs": [
    {
     "name": "stdout",
     "output_type": "stream",
     "text": [
      "Fa: 149.0 N\n"
     ]
    }
   ],
   "source": [
    "#HW01_9:\n",
    "from sympy import *\n",
    "\n",
    "FS = 5\n",
    "Ff = 745 #N\n",
    "\n",
    "Fa = Ff/FS\n",
    "print('Fa:',Fa,'N')"
   ]
  },
  {
   "cell_type": "code",
   "execution_count": 17,
   "id": "f27926dd",
   "metadata": {},
   "outputs": [
    {
     "name": "stdout",
     "output_type": "stream",
     "text": [
      "epsi: 0.0258342732834305 mm/mm\n"
     ]
    }
   ],
   "source": [
    "#HW01_10:\n",
    "from sympy import *\n",
    "\n",
    "ang = 3/180*pi #rad\n",
    "L_ori = 598*1e-3   #m\n",
    "\n",
    "d = L_ori/2**0.5\n",
    "L_new = (2*d**2 - 2*d**2*cos(pi/2+ang))**0.5\n",
    "delt = L_new-L_ori\n",
    "epsi = delt/L_ori\n",
    "print('epsi:',epsi.evalf(),'mm/mm')"
   ]
  },
  {
   "cell_type": "code",
   "execution_count": 43,
   "id": "68883830",
   "metadata": {},
   "outputs": [
    {
     "name": "stdout",
     "output_type": "stream",
     "text": [
      "epsi: -5.371409007515297 m/m\n"
     ]
    }
   ],
   "source": [
    "#HW02_1:\n",
    "from sympy import *\n",
    "\n",
    "a = 520*1e-3; b = 420*1e-3     #m\n",
    "deltb = 3*1e-3; deltd = 2*1e-3 #m\n",
    "\n",
    "ac_ori = (a**2+b**2)**0.5\n",
    "ac_new = ((a-deltb)**2+(b-deltd)**2)**0.5\n",
    "epsi = (ac_ori-ac_new)/ac_ori\n",
    "print('epsi:',-epsi*1e3,'m/m')"
   ]
  },
  {
   "cell_type": "code",
   "execution_count": 44,
   "id": "2e1629e8",
   "metadata": {},
   "outputs": [
    {
     "name": "stdout",
     "output_type": "stream",
     "text": [
      "ratio: 0.469302259701931\n"
     ]
    }
   ],
   "source": [
    "#HW02_2:\n",
    "from sympy import *\n",
    "\n",
    "l_ratio = 3.9\n",
    "\n",
    "'''\n",
    "真实应变(epsi_true): epsi = ln(L/L0)\n",
    "工程应变(epsi_engr): epsi = (L-L0)/L0   我们学的\n",
    "'''\n",
    "\n",
    "ratio = (ln(l_ratio))/(l_ratio-1)\n",
    "print('ratio:',ratio)"
   ]
  },
  {
   "cell_type": "code",
   "execution_count": 49,
   "id": "fc376c00",
   "metadata": {},
   "outputs": [
    {
     "name": "stdout",
     "output_type": "stream",
     "text": [
      "gamm: 0.0495725574916369 rad\n"
     ]
    }
   ],
   "source": [
    "#HW02_3:\n",
    "from sympy import *\n",
    "\n",
    "AD = 300*1e-3; AB = 400*1e-3   #m\n",
    "a = 8.5*1e-3                   #m\n",
    "\n",
    "gamm = (atan(a/AD)+atan(a/AB))\n",
    "print('gamm:',gamm,'rad')"
   ]
  },
  {
   "cell_type": "code",
   "execution_count": 53,
   "id": "75645dfa",
   "metadata": {},
   "outputs": [
    {
     "name": "stdout",
     "output_type": "stream",
     "text": [
      "gamm_c: -0.0115208987055437 rad\n",
      "gamm_d: 0.0115208987055437 rad\n"
     ]
    }
   ],
   "source": [
    "#HW02_4:\n",
    "from sympy import *\n",
    "\n",
    "x = 409; y = 298 #mm\n",
    "\n",
    "gamm_c = -(atan(2/(y+2))+atan((4-2)/(x+5-2)))\n",
    "print('gamm_c:',gamm_c,\"rad\")\n",
    "gamm_d = (atan(2/(y+2))+atan(2/(x+3)))\n",
    "print('gamm_d:',gamm_d,'rad')"
   ]
  },
  {
   "cell_type": "code",
   "execution_count": 57,
   "id": "d7a78bd6",
   "metadata": {},
   "outputs": [
    {
     "name": "stdout",
     "output_type": "stream",
     "text": [
      "gamm_g: 0.00421964419730386\n"
     ]
    }
   ],
   "source": [
    "#HW02_5:\n",
    "from sympy import *\n",
    "\n",
    "gamm = 0.007  #rad\n",
    "\n",
    "delt1 = 600*tan(gamm)\n",
    "delt2 = 300*tan(gamm)\n",
    "gamm_g = (atan(600/(300-delt1))+atan(300/(600+delt2))) - pi/2\n",
    "print('gamm_g:',gamm_g.evalf())"
   ]
  },
  {
   "cell_type": "code",
   "execution_count": 28,
   "id": "bbe07cfa",
   "metadata": {},
   "outputs": [
    {
     "name": "stdout",
     "output_type": "stream",
     "text": [
      "E    : 400.834671490699 Gpa\n",
      "Pv   : 0.821975779503178\n",
      "deltd: -0.0174065459188908 mm\n"
     ]
    }
   ],
   "source": [
    "#HW02_6:\n",
    "from sympy import *\n",
    "\n",
    "L = 255\n",
    "d = 18\n",
    "G = 110\n",
    "sigY = 305    #进入塑性形变的极限应力，但是在这题用不上\n",
    "P = 120\n",
    "delt_l = 0.3\n",
    "\n",
    "L *=1e-3; d *=1e-3; G *=1e9; sigY *=1e6; P *= 1e3; delt_l *=1e-3\n",
    "\n",
    "A = pi*d**2/4\n",
    "epsi_l = delt_l/L; sig = P/A\n",
    "E = sig/epsi_l\n",
    "print('E    :',E.evalf()/1e9,'Gpa')\n",
    "Pv = E/(2*G)-1\n",
    "print('Pv   :',Pv.evalf())\n",
    "delt_d = (-epsi_l*Pv)*d\n",
    "print('deltd:',delt_d.evalf()*1e3,'mm')"
   ]
  },
  {
   "cell_type": "code",
   "execution_count": 19,
   "id": "99109fbf",
   "metadata": {},
   "outputs": [
    {
     "name": "stdout",
     "output_type": "stream",
     "text": [
      "P: 636.997640756469 kN\n"
     ]
    }
   ],
   "source": [
    "#HW02_7:\n",
    "from sympy import *\n",
    "\n",
    "w = 49\n",
    "G = 26\n",
    "\n",
    "w *=1e-3; G *=1e9\n",
    "\n",
    "gamm = atan(0.5/150)\n",
    "tau = gamm*G\n",
    "P = tau*(150*1e-3*w)\n",
    "print('P:',P/1e3,\"kN\")"
   ]
  },
  {
   "cell_type": "code",
   "execution_count": 9,
   "id": "14aa47f4",
   "metadata": {},
   "outputs": [
    {
     "name": "stdout",
     "output_type": "stream",
     "text": [
      "Pmax: 628.947006328240 kN\n"
     ]
    }
   ],
   "source": [
    "#HW02_8:\n",
    "from sympy import *\n",
    "\n",
    "do = 50\n",
    "E = 256\n",
    "Pv = 0.4\n",
    "dn = 50.025\n",
    "\n",
    "do *=1e-3; dn *=1e-3; E *=1e9; \n",
    "\n",
    "epsi_l = ((dn-do)/do)/Pv\n",
    "sig_l = epsi_l*E\n",
    "Pmax = sig_l*(pi*dn**2/4)\n",
    "print('Pmax:',Pmax.evalf()/1e3,'kN')"
   ]
  },
  {
   "cell_type": "code",
   "execution_count": 5,
   "id": "89aa460c",
   "metadata": {},
   "outputs": [
    {
     "name": "stdout",
     "output_type": "stream",
     "text": [
      "new epsi  : 0.0031600000000000005 in/in\n",
      "Elongation: 0.0031600000000000005 in\n"
     ]
    }
   ],
   "source": [
    "#HW02_9:\n",
    "from sympy import *\n",
    "\n",
    "d = 0.2\n",
    "L = 1\n",
    "sig = 29\n",
    "\n",
    "k = 15/0.0024\n",
    "#读图获取坐标\n",
    "epsi_o = 0.0078\n",
    "epsi_n = epsi_o - sig/k\n",
    "print('new epsi  :',epsi_n,'in/in')\n",
    "delt = epsi_n*L\n",
    "print('Elongation:',delt,'in')"
   ]
  },
  {
   "cell_type": "code",
   "execution_count": 31,
   "id": "4e70a6fc",
   "metadata": {},
   "outputs": [
    {
     "name": "stdout",
     "output_type": "stream",
     "text": [
      "delt_l: 0.0870591141699256 mm\n",
      "delt_d: -0.00195883006882333 mm\n"
     ]
    }
   ],
   "source": [
    "#HW03_1:\n",
    "from sympy import *\n",
    "\n",
    "L = 200\n",
    "d = 15\n",
    "F = 300\n",
    "E = 3.9\n",
    "Pv = 0.3\n",
    "\n",
    "L *=1e-3; d *=1e-3; E *=1e9\n",
    "\n",
    "epsi_l = (F/(pi*d**2/4))/E\n",
    "delt_l = epsi_l*L\n",
    "print('delt_l:',delt_l.evalf()*1e3,'mm')\n",
    "epsi_d = -Pv*epsi_l\n",
    "delt_d = epsi_d*d\n",
    "print('delt_d:',delt_d.evalf()*1e3,'mm')"
   ]
  },
  {
   "cell_type": "code",
   "execution_count": 32,
   "id": "accde3ca",
   "metadata": {},
   "outputs": [
    {
     "name": "stdout",
     "output_type": "stream",
     "text": [
      "E    : 43.4151948334249 Gpa\n",
      "Pv   : -0.789246627022209\n",
      "deltd: 0.109944803764288 mm\n"
     ]
    }
   ],
   "source": [
    "#HW03_2:\n",
    "from sympy import *\n",
    "\n",
    "L = 201\n",
    "d = 28\n",
    "P = 133\n",
    "delt_l = 1\n",
    "G = 103\n",
    "\n",
    "L *=1e-3; d *=1e-3; G *=1e9; P *= 1e3; delt_l *=1e-3\n",
    "\n",
    "A = pi*d**2/4\n",
    "epsi_l = delt_l/L; sig = P/A\n",
    "E = sig/epsi_l\n",
    "print('E    :',E.evalf()/1e9,'Gpa')\n",
    "Pv = E/(2*G)-1\n",
    "print('Pv   :',Pv.evalf())\n",
    "delt_d = (-epsi_l*Pv)*d\n",
    "print('deltd:',delt_d.evalf()*1e3,'mm')"
   ]
  },
  {
   "cell_type": "code",
   "execution_count": 3,
   "id": "9cc02a61",
   "metadata": {},
   "outputs": [
    {
     "name": "stdout",
     "output_type": "stream",
     "text": [
      "2.02740066519113\n"
     ]
    }
   ],
   "source": [
    "#HW03_3:\n",
    "from sympy import *\n",
    "\n",
    "epsi_y = 0.3*1e-2\n",
    "#这里的sig单位是kpa,因此最后除以1e3\n",
    "sig = symbols('sig')\n",
    "epsi1 = 0.45*1e-6*sig+0.36*1e-12*sig**3\n",
    "epsi2 = 0.45*1e-6*sig+epsi_y\n",
    "ans = solve(epsi1-epsi2,sig)\n",
    "print(ans[0]/1e3)"
   ]
  },
  {
   "cell_type": "code",
   "execution_count": 43,
   "id": "1588bdf6",
   "metadata": {},
   "outputs": [
    {
     "name": "stdout",
     "output_type": "stream",
     "text": [
      "sigAB: -29.4115265551745 Mpa\n",
      "sigCD: -29.4115265551745 Mpa\n",
      "sigEF: 30.5740098621869 Mpa\n"
     ]
    }
   ],
   "source": [
    "#HW03_4:\n",
    "from sympy import *\n",
    "\n",
    "E_1 = 101\n",
    "d1 = 30\n",
    "L1 = 272\n",
    "E_2 = 193\n",
    "d2 = 40\n",
    "L2 = 500\n",
    "F = 40\n",
    "\n",
    "E_1 *=1e9; E_2 *=1e9; d1 *=1e-3; d2 *=1e-3; L1 *=1e-3; L2 *=1e-3; F *=2*1e3\n",
    "\n",
    "delt =symbols('delt')\n",
    "epsi_1 = delt/L1\n",
    "epsi_2 = delt/L2\n",
    "A1 = pi*d1**2/4\n",
    "A2 = pi*d2**2/4\n",
    "eq = epsi_1*E_1*A1*2+epsi_2*E_2*A2 - F\n",
    "ans = solve(eq,delt)\n",
    "sig1 = epsi_1.subs(delt,ans[0])*E_1\n",
    "print('sigAB:',-sig1.evalf()/1e6,'Mpa')\n",
    "print('sigCD:',-sig1.evalf()/1e6,'Mpa')\n",
    "sig2 = epsi_2.subs(delt,ans[0])*E_2\n",
    "print('sigEF:',sig2.evalf()/1e6,'Mpa')"
   ]
  },
  {
   "cell_type": "code",
   "execution_count": 45,
   "id": "4ee4c37f",
   "metadata": {},
   "outputs": [
    {
     "name": "stdout",
     "output_type": "stream",
     "text": [
      "deltB: 0.05125 mm\n",
      "deltC: 0.09225 mm\n"
     ]
    }
   ],
   "source": [
    "#HW03_5:\n",
    "from sympy import *\n",
    "\n",
    "k1 = 1000000 #kN/m\n",
    "k2 = 400000  #kN/m\n",
    "P = 41       #kN/m\n",
    "\n",
    "delt1 = (P/2)/k2\n",
    "print('deltB:',delt1*1e3,'mm')\n",
    "delt2 = delt1 + P/k1\n",
    "print('deltC:',delt2*1e3,'mm')"
   ]
  },
  {
   "cell_type": "code",
   "execution_count": 49,
   "id": "01a35def",
   "metadata": {},
   "outputs": [
    {
     "name": "stdout",
     "output_type": "stream",
     "text": [
      "N: 796.0 N\n"
     ]
    }
   ],
   "source": [
    "#HW03_6:\n",
    "from sympy import *\n",
    "\n",
    "P = 856 #N\n",
    "w = 100 #/Nm\n",
    "x = 0.6 #m\n",
    "\n",
    "Nv = P - x*w\n",
    "print('N:',Nv,'N')"
   ]
  },
  {
   "cell_type": "code",
   "execution_count": 6,
   "id": "520aa677",
   "metadata": {},
   "outputs": [
    {
     "name": "stdout",
     "output_type": "stream",
     "text": [
      "delt2: 0.0372657579847978 mm\n"
     ]
    }
   ],
   "source": [
    "#HW03_7:\n",
    "from sympy import *\n",
    "\n",
    "k1 = 242 #N/mm\n",
    "k2 = 180 #N/mm\n",
    "L = 208  #mm\n",
    "ang = 40 #deg\n",
    "P = 24\n",
    "\n",
    "ang *=pi/180\n",
    "\n",
    "delt2 = symbols('delt2')\n",
    "F2 = delt2*k2\n",
    "delt1 = delt2*cos(ang)\n",
    "F1 = delt1*k1\n",
    "eq = F1*cos(ang)+F2 - P*0.5\n",
    "ans = solve(eq,delt2)\n",
    "print('delt2:',ans[0],'mm')"
   ]
  },
  {
   "cell_type": "code",
   "execution_count": 52,
   "id": "1e5f4d2b",
   "metadata": {},
   "outputs": [
    {
     "name": "stdout",
     "output_type": "stream",
     "text": [
      "sigAl: -15.9681509114867 Mpa\n"
     ]
    }
   ],
   "source": [
    "#HW03_8:\n",
    "from sympy import *\n",
    "\n",
    "E_1 = 64\n",
    "E_2 = 243\n",
    "din = 26\n",
    "dou = 48\n",
    "L = 750\n",
    "P = 86\n",
    "\n",
    "E_1 *=1e9; E_2 *=1e9; din *=1e-3; dou *=1e-3; L *=1e-3; P *=1e3\n",
    "\n",
    "epsi = symbols('epsi')\n",
    "Ain = pi*din**2/4\n",
    "Aou = pi*dou**2/4 - Ain\n",
    "eq = epsi*(Ain*E_1+Aou*E_2) - P\n",
    "ans = solve(eq,epsi)\n",
    "sigAl = ans[0]*E_1\n",
    "print('sigAl:',-sigAl/1e6,'Mpa')"
   ]
  },
  {
   "cell_type": "code",
   "execution_count": 54,
   "id": "304597cd",
   "metadata": {},
   "outputs": [
    {
     "name": "stdout",
     "output_type": "stream",
     "text": [
      "sig: -31.747257142857148 ksi\n"
     ]
    }
   ],
   "source": [
    "#HW03_9:\n",
    "from sympy import *\n",
    "\n",
    "delt_o = 0.02\n",
    "L = 14\n",
    "E = 29710\n",
    "alpha = 8*1e-6\n",
    "A = 2\n",
    "delT = -45\n",
    "\n",
    "delt_n = delt_o + delT*alpha*L\n",
    "epsi = delt_n/L\n",
    "sig = epsi*E\n",
    "print('sig:',-sig,'ksi')"
   ]
  },
  {
   "cell_type": "code",
   "execution_count": 12,
   "id": "d387a786",
   "metadata": {},
   "outputs": [
    {
     "name": "stdout",
     "output_type": "stream",
     "text": [
      "deltC: 0.0268892849273183\n"
     ]
    }
   ],
   "source": [
    "#HW03_10:\n",
    "from sympy import *\n",
    "\n",
    "L = 1029\n",
    "a = 586\n",
    "b = 512\n",
    "E = 193\n",
    "A = 865\n",
    "P = 2\n",
    "ang = 57\n",
    "\n",
    "L *=1e-3; a *=1e-3; b *=1e-3; E *=1e9; A *=1e-6; P *=1e3; ang *=pi/180\n",
    "\n",
    "deltC = symbols('deltC')\n",
    "deltB = deltC*a/L\n",
    "sigBD = P*L/a/sin(ang)/A\n",
    "epsi = deltB*sin(ang)/b\n",
    "\n",
    "eq = epsi*E - sigBD\n",
    "ans = solve(eq,deltC)\n",
    "print('deltC:',ans[0]*1e3)"
   ]
  },
  {
   "cell_type": "code",
   "execution_count": 64,
   "id": "a4fb0f5f",
   "metadata": {},
   "outputs": [
    {
     "name": "stdout",
     "output_type": "stream",
     "text": [
      "ang: 0.000565884181701106 rad\n"
     ]
    }
   ],
   "source": [
    "#HW04_1:\n",
    "from sympy import *\n",
    "\n",
    "L = 2; d = 10*1e-3\n",
    "P = 800\n",
    "E = 54\n",
    "a = 1\n",
    "\n",
    "E *=1e9\n",
    "\n",
    "epsi = symbols('epsi')\n",
    "F = epsi*E*(pi*d**2/4)\n",
    "eq = 2*a*F - 3*a*P\n",
    "ans = solve(eq,epsi)\n",
    "delt = L*ans[0]\n",
    "ang = atan(delt/a)\n",
    "print('ang:',ang,'rad')"
   ]
  },
  {
   "cell_type": "code",
   "execution_count": 62,
   "id": "026fb099",
   "metadata": {},
   "outputs": [
    {
     "name": "stdout",
     "output_type": "stream",
     "text": [
      "Fa: -127.634954084936 KN\n",
      "Fd: -7.36504591506385 KN\n"
     ]
    }
   ],
   "source": [
    "#HW04_2:\n",
    "from sympy import *\n",
    "\n",
    "L = 0.6; d1  =0.05; d2 = 0.025 #m\n",
    "E = 200*1e9                    #pa\n",
    "P = 135                  *1e3  #N\n",
    "\n",
    "deltB = symbols('deltB')\n",
    "epsi1 = deltB/L\n",
    "epsi2 = (deltB-0.15*1e-3)/L\n",
    "A1 = pi*d1**2/4; A2 = pi*d2**2/4\n",
    "eq = (epsi1*E*A1)+(epsi2*E*A2) - P\n",
    "ans = solve(eq,deltB)\n",
    "Fa = (epsi1*E*A1).subs(deltB,ans[0])\n",
    "Fd = (epsi2*E*A2).subs(deltB,ans[0])\n",
    "print('Fa:',-Fa.evalf()/1e3,'KN')\n",
    "print('Fd:',-Fd.evalf()/1e3,'KN')"
   ]
  },
  {
   "cell_type": "code",
   "execution_count": 56,
   "id": "9414388e",
   "metadata": {},
   "outputs": [
    {
     "name": "stdout",
     "output_type": "stream",
     "text": [
      "gamm: 1.21562675920794\n"
     ]
    }
   ],
   "source": [
    "#HW04_3:\n",
    "from sympy import *\n",
    "\n",
    "L = 1710\n",
    "di = 20\n",
    "do = 39\n",
    "G = 40\n",
    "T = 1028\n",
    "\n",
    "L *=1e-3; di *=1e-3; do *=1e-3; G *=1e9\n",
    "\n",
    "J = pi/32*(do**4-di**4)\n",
    "tau = T*(di/2)/J\n",
    "gamm = tau/G\n",
    "print('gamm:',gamm.evalf()*1e3)"
   ]
  },
  {
   "cell_type": "code",
   "execution_count": 67,
   "id": "387702a2",
   "metadata": {},
   "outputs": [
    {
     "name": "stdout",
     "output_type": "stream",
     "text": [
      "P  : 164.097987197756 N\n",
      "ang: 0.0536192109777015 rad\n"
     ]
    }
   ],
   "source": [
    "#HW04_4:\n",
    "from sympy import *\n",
    "\n",
    "a = 1290\n",
    "b = 1563\n",
    "d = 33\n",
    "G = 53\n",
    "tauM = 30\n",
    "\n",
    "a *=1e-3; b *=1e-3; d *=1e-3; G *=1e9; tauM *=1e6\n",
    "\n",
    "J = pi/32*d**4\n",
    "P = (tauM*J/(d/2))/a\n",
    "print('P  :',P.evalf(),'N')\n",
    "\n",
    "ang = (P*a)*b/(J*G)\n",
    "print('ang:',ang,'rad')"
   ]
  },
  {
   "cell_type": "code",
   "execution_count": 69,
   "id": "80c5f7fb",
   "metadata": {},
   "outputs": [
    {
     "name": "stdout",
     "output_type": "stream",
     "text": [
      "angC: 0.0197017706868694 rad\n"
     ]
    }
   ],
   "source": [
    "#HW04_5:\n",
    "from sympy import *\n",
    "\n",
    "L1 = 332\n",
    "d1 = 72\n",
    "L2 = 347\n",
    "d2 = 44\n",
    "Tb = 943\n",
    "Tc = 713\n",
    "\n",
    "G1 = 43*1e9; G2 = 33*1e9; L1 *=1e-3; L2 *=1e-3; d1 *=1e-3; d2 *=1e-3\n",
    "\n",
    "J1 = pi/32*d1**4\n",
    "J2 = pi/32*d2**4\n",
    "ang2 = (Tc*L2)/(J2*G2)\n",
    "ang1 = ((Tb-Tc)*L1)/(J1*G1)\n",
    "angC = -ang1+ang2\n",
    "print('angC:',angC.evalf(),'rad')"
   ]
  },
  {
   "cell_type": "code",
   "execution_count": 73,
   "id": "52cf56fa",
   "metadata": {},
   "outputs": [
    {
     "name": "stdout",
     "output_type": "stream",
     "text": [
      "T   : 342.879705398097 N*m\n",
      "angM: 0.0284377104377104 rad\n"
     ]
    }
   ],
   "source": [
    "#HW04_6:\n",
    "from sympy import *\n",
    "\n",
    "L = 1648\n",
    "r = 22\n",
    "G = 54\n",
    "tauM = 41\n",
    "FS= 2\n",
    "\n",
    "L *=1e-3; r *=1e-3; G *=1e9; tauM *=1e6\n",
    "\n",
    "J = pi/2*r**4\n",
    "T = (tauM*J/r)/FS\n",
    "print('T   :',T.evalf(),'N*m')\n",
    "angM = (T*L)/(J*G)\n",
    "print('angM:',angM,'rad')"
   ]
  },
  {
   "cell_type": "code",
   "execution_count": 7,
   "id": "49759b53",
   "metadata": {},
   "outputs": [
    {
     "name": "stdout",
     "output_type": "stream",
     "text": [
      "tauA: 0.0539651197768546\n",
      "tauS: 0.101184599581602\n"
     ]
    }
   ],
   "source": [
    "#HW04_7:\n",
    "from sympy import *\n",
    "\n",
    "L = 45\n",
    "Ga = 4000\n",
    "Gs = 10000\n",
    "da = 4\n",
    "ds = 3\n",
    "Tb = 1\n",
    "\n",
    "ang = symbols('ang')\n",
    "Ja = pi/32*(da**4-ds**4)\n",
    "Js = pi/32*(ds**4)\n",
    "Ta = Tb*((Ja*Ga)/(Ja*Ga+Js*Gs))\n",
    "Ts = Tb*((Js*Gs)/(Ja*Ga+Js*Gs))\n",
    "tauA = Ta*(da/2)/Ja\n",
    "tauS = Ts*(ds/2)/Js\n",
    "print('tauA:',tauA.evalf())\n",
    "print('tauS:',tauS.evalf())"
   ]
  },
  {
   "cell_type": "code",
   "execution_count": 9,
   "id": "da6948e2",
   "metadata": {},
   "outputs": [
    {
     "name": "stdout",
     "output_type": "stream",
     "text": [
      "t: 29.0880790813785 mm\n"
     ]
    }
   ],
   "source": [
    "#HW04_8:\n",
    "from sympy import *\n",
    "\n",
    "tauMax = 79*1e6\n",
    "Tmax = 45*1e3\n",
    "do = 150*1e-3\n",
    "di = symbols('di')\n",
    "\n",
    "J = pi/32*(do**4-di**4)\n",
    "eq = Tmax*(do/2)/J - tauMax\n",
    "ans = solve(eq,di)\n",
    "t = (do - ans[1])/2\n",
    "print('t:',t*1e3,'mm')"
   ]
  },
  {
   "cell_type": "code",
   "execution_count": 11,
   "id": "747e8c5b",
   "metadata": {},
   "outputs": [
    {
     "name": "stdout",
     "output_type": "stream",
     "text": [
      "A: 75.9113007701181 Mpa\n",
      "B: 94.8891259626476 Mpa\n"
     ]
    }
   ],
   "source": [
    "#HW04_9:\n",
    "from sympy import *\n",
    "\n",
    "ra = 40*1e-3\n",
    "rb = 50*1e-3\n",
    "T = 11*1e3\n",
    "\n",
    "J = pi/2*(rb**4-ra**4)\n",
    "tauA = T*ra/J\n",
    "tauB = T*rb/J\n",
    "print('A:',tauA.evalf()/1e6,'Mpa')\n",
    "print('B:',tauB.evalf()/1e6,'Mpa')"
   ]
  },
  {
   "cell_type": "code",
   "execution_count": 12,
   "id": "1714942f",
   "metadata": {},
   "outputs": [
    {
     "name": "stdout",
     "output_type": "stream",
     "text": [
      "0.032010736326530606\n"
     ]
    }
   ],
   "source": [
    "#HW04_10:\n",
    "from sympy import *\n",
    "\n",
    "Rb = 109\n",
    "Rc = 35\n",
    "ft = 4*1e-6\n",
    "Td = 748\n",
    "\n",
    "Tb = Td/Rc*Rb\n",
    "ang1 = Tb*ft\n",
    "ang2 = Td*ft + ang1*Rb/Rc\n",
    "print(ang2)"
   ]
  }
 ],
 "metadata": {
  "kernelspec": {
   "display_name": "base",
   "language": "python",
   "name": "python3"
  },
  "language_info": {
   "codemirror_mode": {
    "name": "ipython",
    "version": 3
   },
   "file_extension": ".py",
   "mimetype": "text/x-python",
   "name": "python",
   "nbconvert_exporter": "python",
   "pygments_lexer": "ipython3",
   "version": "3.12.7"
  }
 },
 "nbformat": 4,
 "nbformat_minor": 5
}
