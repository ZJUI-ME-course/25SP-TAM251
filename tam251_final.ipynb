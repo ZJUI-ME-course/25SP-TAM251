{
 "cells": [
  {
   "cell_type": "code",
   "execution_count": null,
   "id": "223bd8d6",
   "metadata": {},
   "outputs": [],
   "source": [
    "# 4.7\n",
    "# 错因 fai=TL/GJ\n",
    "\n",
    "from sympy import *\n",
    "\n",
    "l=43\n",
    "G1=4000\n",
    "G2=10000\n",
    "d1=4\n",
    "d2=3\n",
    "T=1\n",
    "##################################\n",
    "T1=S('T1')\n",
    "T2=T-T1\n",
    "\n",
    "\n",
    "J1=1/32*pi*(d1**4-d2**4)\n",
    "J2=1/32*pi*(d2**4)\n",
    "\n",
    "fai1=T1/G1/J1\n",
    "fai2=T2/G2/J2\n",
    "q1=fai1-fai2\n",
    "\n",
    "T1=solve(q1,T1)[0]\n",
    "T2=T-T1\n",
    "\n",
    "tao1=T1*do/2/J1\n",
    "tao2=T2*di/2/J2\n",
    "\n",
    "print(float(tao1),float(tao2))\n",
    "\n"
   ]
  },
  {
   "cell_type": "code",
   "execution_count": null,
   "id": "f2c6979d",
   "metadata": {},
   "outputs": [],
   "source": [
    "# 4.8\n",
    "t=S('t')\n",
    "\n"
   ]
  }
 ],
 "metadata": {
  "language_info": {
   "name": "python"
  }
 },
 "nbformat": 4,
 "nbformat_minor": 5
}
