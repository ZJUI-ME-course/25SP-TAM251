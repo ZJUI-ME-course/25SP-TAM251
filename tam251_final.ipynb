{
 "cells": [
  {
   "cell_type": "code",
   "execution_count": null,
   "id": "223bd8d6",
   "metadata": {},
   "outputs": [],
   "source": [
    "# 4.7\n",
    "# 错因 fai=TL/GJ\n",
    "\n",
    "from sympy import *\n",
    "\n",
    "l=43\n",
    "G1=4000\n",
    "G2=10000\n",
    "d1=4\n",
    "d2=3\n",
    "T=1\n",
    "##################################\n",
    "T1=S('T1')\n",
    "T2=T-T1\n",
    "\n",
    "\n",
    "J1=1/32*pi*(d1**4-d2**4)\n",
    "J2=1/32*pi*(d2**4)\n",
    "\n",
    "fai1=T1/G1/J1\n",
    "fai2=T2/G2/J2\n",
    "q1=fai1-fai2\n",
    "\n",
    "T1=solve(q1,T1)[0]\n",
    "T2=T-T1\n",
    "\n",
    "tao1=T1*do/2/J1\n",
    "tao2=T2*di/2/J2\n",
    "\n",
    "print(float(tao1),float(tao2))\n",
    "\n"
   ]
  },
  {
   "cell_type": "code",
   "execution_count": 11,
   "id": "f2c6979d",
   "metadata": {},
   "outputs": [
    {
     "name": "stdout",
     "output_type": "stream",
     "text": [
      "q1 [0.0198371840145911, 0.130162815985409, 0.075 - 0.0551628159854089*I, 0.075 + 0.0551628159854089*I]\n"
     ]
    }
   ],
   "source": [
    "# 4.8\n",
    "from sympy import *\n",
    "t=S('t')\n",
    "\n",
    "do=150e-3\n",
    "di=do-2*t \n",
    "\n",
    "ro=do/2\n",
    "ri=di/2\n",
    "\n",
    "J=pi/2*(ro**4-ri**4)\n",
    "T=45e3\n",
    "taom=96e6\n",
    "\n",
    "q1=taom-T*ro/J\n",
    "ans=solve(q1,t)\n",
    "print('q1',ans)\n",
    "\n",
    "\n"
   ]
  },
  {
   "cell_type": "code",
   "execution_count": null,
   "id": "e6604d63",
   "metadata": {},
   "outputs": [
    {
     "name": "stdout",
     "output_type": "stream",
     "text": [
      "taoa 35.1077080349769 taob 58.5128467249615\n"
     ]
    }
   ],
   "source": [
    "# 4.9\n",
    "from sympy import *\n",
    "\n",
    "T=10e3\n",
    "ri=30e-3\n",
    "ro=50e-3\n",
    "\n",
    "\n",
    "J=1/2*pi*(ro**4-ri**4)\n",
    "tao1=T*ri/J\n",
    "tao2=T*ro/J\n",
    "\n",
    "\n",
    "print('taoa',tao1.evalf()/1e6,'taob',tao2.evalf()/1e6)"
   ]
  },
  {
   "cell_type": "code",
   "execution_count": null,
   "id": "b52b28bb",
   "metadata": {},
   "outputs": [
    {
     "name": "stdout",
     "output_type": "stream",
     "text": [
      "1.4221547083333332e-07 1.4368346666666665e-06 1.568653333333333e-06\n",
      "1.6333333333333334e-08 1.1474026666666663e-06 7.028054166666666e-07 7.466165666666665e-06\n"
     ]
    }
   ],
   "source": [
    "# 7.1\n",
    "b=22e-3\n",
    "t=5e-3\n",
    "Vy=22e3\n",
    "\n",
    "\n",
    "I1=1/12*(2*b)**3*t+(b+t**2)**2*(2*b*t)\n",
    "\n",
    "I2=1/12*(b)**3*(2*b)+(3/2*b+t)**2*(2*b**2)\n",
    "\n",
    "I3=1/12*(2*b+t)**3*(2*t)+(b+t/2)**2*(2*t*(2*b+t))\n",
    "print(I1,I2,I3*4)\n",
    "\n",
    "I=4*(I1+I2+I3)\n",
    "\n",
    "\n",
    "\n",
    "#有些部分没有A\n",
    "I1=1/12*(2*b+t)*(2*t)**3+t**2*(2*t)*(2*b+t)\n",
    "I2=1/12*b*(2*b)**3+(2*t+b)**2*(2*b*b)\n",
    "I3=1/12*(2*b+t)*t**3+(2*t+2*b+t/2)**2*(t*(2*b))\n",
    "\n",
    "I=(I1+I2+I3)*4\n",
    "print(I1,I2,I3,I)\n",
    "\n",
    "\n",
    "Q="
   ]
  },
  {
   "cell_type": "code",
   "execution_count": null,
   "id": "62ef44b9",
   "metadata": {},
   "outputs": [],
   "source": []
  }
 ],
 "metadata": {
  "kernelspec": {
   "display_name": "Python 3",
   "language": "python",
   "name": "python3"
  },
  "language_info": {
   "codemirror_mode": {
    "name": "ipython",
    "version": 3
   },
   "file_extension": ".py",
   "mimetype": "text/x-python",
   "name": "python",
   "nbconvert_exporter": "python",
   "pygments_lexer": "ipython3",
   "version": "3.9.6"
  }
 },
 "nbformat": 4,
 "nbformat_minor": 5
}
